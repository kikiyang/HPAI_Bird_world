{
 "cells": [
  {
   "cell_type": "code",
   "execution_count": 1,
   "metadata": {},
   "outputs": [],
   "source": [
    "import xgboost as xgb\n",
    "import pandas as pd\n",
    "import os \n",
    "import numpy as np\n",
    "import matplotlib.pyplot as plt  \n",
    "from sklearn.model_selection import train_test_split\n",
    "%matplotlib inline \n",
    "import scipy.stats as ss \n",
    "import matplotlib.style as ms\n",
    "from time import time\n",
    "#ms.use('fivethirtyeight')"
   ]
  },
  {
   "cell_type": "code",
   "execution_count": null,
   "metadata": {},
   "outputs": [],
   "source": [
    "order_path = r'../monthly_bird/'\n",
    "out_path = r'../models/'\n",
    "os.chdir(order_path)\n",
    "for i in os.listdir():\n",
    "    filetype = os.path.splitext(i)[1]\n",
    "    filename = os.path.splitext(i)[0]\n",
    "    \n",
    "    if filetype == '.csv':\n",
    "        print(filename)\n",
    "        data = pd.read_csv(i)\n",
    "        data = data.drop(columns=['date','lon','lat','individual','source file','month'])#\n",
    "        y = data.iloc[:,0]\n",
    "        X = data.iloc[:,1:]\n",
    "        X_train, X_test, y_train, y_test = train_test_split(X, y, test_size=0.2,random_state = 100)\n",
    "        dtrain = xgb.DMatrix(data=X_train,label=y_train)\n",
    "        dtest = xgb.DMatrix(data=X_test,label=y_test)\n",
    "        watchlist = [(dtrain, 'train'),(dtest, 'eval')]\n",
    "        base_y = y_train.mean()\n",
    "        \n",
    "        params = {'eta':0.01, \n",
    "                  'gamma':0.4,\n",
    "                  'max_depth':8,\n",
    "                  'min_child_weight':4,\n",
    "                  #'silent':2, \n",
    "                  'verbosity':3,\n",
    "                  'objective':'binary:logistic',\n",
    "                  'subsample':0.8,\n",
    "                  'eval_metric':'auc',\n",
    "                  'reg_lambda':0.1,\n",
    "                  'colsample_bytree':0.8\n",
    "          }\n",
    "\n",
    "        num_round = 1000\n",
    "        xgb_model = xgb.train(params,                   # set tuning parameters from above                   \n",
    "                              dtrain,                   # training data\n",
    "                              num_round,                # maximum of 1000 iterations (trees)\n",
    "                              evals=watchlist,          # use watchlist for early stopping \n",
    "                              early_stopping_rounds=50, # stop after 50 iterations (trees) without increase in AUC\n",
    "                              verbose_eval=True)        # display iteration progress\n",
    "        xgb_model.save_model(out_path+filename+'.json')\n",
    "        #break"
   ]
  }
 ],
 "metadata": {
  "kernelspec": {
   "display_name": "Python 3",
   "language": "python",
   "name": "python3"
  },
  "language_info": {
   "codemirror_mode": {
    "name": "ipython",
    "version": 3
   },
   "file_extension": ".py",
   "mimetype": "text/x-python",
   "name": "python",
   "nbconvert_exporter": "python",
   "pygments_lexer": "ipython3",
   "version": "3.7.6"
  }
 },
 "nbformat": 4,
 "nbformat_minor": 4
}
