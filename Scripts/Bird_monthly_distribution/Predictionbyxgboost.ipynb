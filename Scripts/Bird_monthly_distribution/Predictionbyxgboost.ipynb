{
 "cells": [
  {
   "cell_type": "code",
   "execution_count": 2,
   "metadata": {},
   "outputs": [],
   "source": [
    "import xgboost as xgb\n",
    "import pandas as pd\n",
    "import os \n",
    "import numpy as np\n",
    "import sys\n",
    "import gc\n",
    "from time import time\n",
    "from pathos.multiprocessing import ProcessingPool as Pool"
   ]
  },
  {
   "cell_type": "code",
   "execution_count": 3,
   "metadata": {},
   "outputs": [],
   "source": [
    "def pred (model_path,data,out_path,out_name):\n",
    "    model = xgb.Booster(model_file=model_path)\n",
    "    out_data = pd.read_csv(data)\n",
    "    \n",
    "    pred_data = out_data.drop(columns=['lon','lat'],axis = 1)#\n",
    "    data_dmatrix = xgb.DMatrix(pred_data)\n",
    "    pred = model.predict(data=data_dmatrix)\n",
    "    \n",
    "    out_data[\"bird\"] = pred\n",
    "    out_data = out_data[[\"lon\",\"lat\",\"bird\"]]\n",
    "    out_data.to_csv(out_path+out_name+'.csv',index=False)"
   ]
  },
  {
   "cell_type": "code",
   "execution_count": 7,
   "metadata": {},
   "outputs": [
    {
     "name": "stdout",
     "output_type": "stream",
     "text": [
      "Gruiformes.json\n",
      "19.085556745529175\n",
      "Procellariiformes.json\n",
      "16.05157732963562\n",
      "Accipitriformes.json\n",
      "20.091309785842896\n",
      "Passeriformes.json\n",
      "19.171802759170532\n",
      "Ciconiiformes.json\n",
      "20.089248180389404\n",
      "Falconiformes.json\n",
      "19.454153299331665\n",
      "Charadriiformes.json\n",
      "18.961719512939453\n",
      "Pelecaniformes.json\n",
      "18.55037808418274\n",
      "Anseriformes.json\n",
      "19.282253980636597\n",
      "Suliformes.json\n",
      "15.223488807678223\n"
     ]
    }
   ],
   "source": [
    "model_path = r'../models/'## the models trained in train_model.ipynb\n",
    "basemap_path = r'../basemap/'## a basemap include the environment variables(table S2),the grid size is consistent with era5-land\n",
    "out_path = r'../bird_distribution_map/csv/'##  Model prediction results in grid: (latitude and longitude) - migratory bird probability \n",
    "t1 = time()\n",
    "os.chdir(model_path)\n",
    "flist = os.listdir()\n",
    "pool = Pool(4)\n",
    "for i in flist:\n",
    "    filetype = os.path.splitext(i)[1]\n",
    "    modelname = os.path.splitext(i)[0]\n",
    "    if filetype == '.json':\n",
    "        #以下要遍历所有的basemap，依次做出预测，并输出为csv\n",
    "        print(i)\n",
    "        #creat floder\n",
    "        os.mkdir(out_path+modelname)\n",
    "        p_map = []#data\n",
    "        p_mapname = []#out_name\n",
    "        for bmap in os.listdir(basemap_path):\n",
    "            filetype2 = os.path.splitext(bmap)[1]\n",
    "            bmapname = os.path.splitext(bmap)[0]\n",
    "            if filetype2 == '.csv':\n",
    "                p_map.append(basemap_path+bmap)\n",
    "                p_mapname.append(bmapname)              \n",
    "        p_model = [model_path+i]*len(p_map)#model\n",
    "        p_out_path = [out_path+modelname+'/']*len(p_map)#out_path\n",
    "        #params = zip(p_model,p_map,p_out_path,p_mapname)\n",
    "        pool.map(pred,p_model,p_map,p_out_path,p_mapname)\n",
    "        print(time()-t1)\n",
    "        t1 = time()\n",
    "        \n",
    "    #pool.terminate()\n",
    "pool.close()\n",
    "pool.join()"
   ]
  },
  {
   "cell_type": "code",
   "execution_count": null,
   "metadata": {},
   "outputs": [],
   "source": [
    "## Convert the grid result to TIF"
   ]
  },
  {
   "cell_type": "code",
   "execution_count": null,
   "metadata": {},
   "outputs": [],
   "source": [
    "proj = 'GEOGCS[\"WGS 84\",DATUM[\"WGS_1984\",SPHEROID[\"WGS 84\",6378137,298.257223563,AUTHORITY[\"EPSG\",\"7030\"]],AUTHORITY[\"EPSG\",\"6326\"]],PRIMEM[\"Greenwich\",0,AUTHORITY[\"EPSG\",\"8901\"]],UNIT[\"degree\",0.0174532925199433,AUTHORITY[\"EPSG\",\"9122\"]],AXIS[\"Latitude\",NORTH],AXIS[\"Longitude\",EAST],AUTHORITY[\"EPSG\",\"4326\"]]'\n",
    "trans = (-180,0.25,0,90,0,-0.25)\n",
    "img_width, img_height=1440,721\n",
    "order_list = ['Gruiformes', 'Procellariiformes', 'Accipitriformes', 'Passeriformes', 'Ciconiiformes', 'Falconiformes', 'Charadriiformes', 'Pelecaniformes', 'Anseriformes', 'Suliformes']"
   ]
  },
  {
   "cell_type": "code",
   "execution_count": null,
   "metadata": {},
   "outputs": [],
   "source": [
    "infile = r'../bird_distribution_map/csv/'\n",
    "outpath =  r'../bird_distribution_map/tif/'   "
   ]
  },
  {
   "cell_type": "code",
   "execution_count": null,
   "metadata": {},
   "outputs": [],
   "source": [
    "def buil_tif(infile,outpath,outname):\n",
    "        \n",
    "    datatype = gdal.GDT_Float32\n",
    "    driver = gdal.GetDriverByName(\"GTiff\")\n",
    "    dataset = driver.Create(outpath+outname+\".tif\",img_width,img_height, 1, datatype)\n",
    "    \n",
    "    pred = pd.read_csv(infile,engine = 'c')\n",
    "    pred.lon = pred.lon.apply(lambda x: x-360  if x>180 else x)\n",
    "    pred = pred.sort_values(by=['lat','lon'],ascending=[False,True])\n",
    "    bird = pred.bird.values\n",
    "    outif = np.matrix(bird.reshape(img_height,img_width))\n",
    "   \n",
    "    dataset.SetGeoTransform(trans)  # 写入仿射变换参数\n",
    "    dataset.SetProjection(proj)  # 写入仿射变换参数\n",
    "    dataset.GetRasterBand(1).WriteArray(outif)\n",
    "    del dataset"
   ]
  },
  {
   "cell_type": "code",
   "execution_count": null,
   "metadata": {},
   "outputs": [],
   "source": [
    "t1=time()\n",
    "pool = Pool(4)\n",
    "\n",
    "for order in order_list:\n",
    "    print(order)\n",
    "    os.chdir(infile+order)\n",
    "    map_csv = []\n",
    "    raster_out = []\n",
    "    raster_name = []\n",
    "    for bmap in os.listdir():\n",
    "        filetype = os.path.splitext(bmap)[1]\n",
    "        bmapname = os.path.splitext(bmap)[0]\n",
    "        if filetype == '.csv':\n",
    "            map_csv.append(infile+order+'/'+bmap)\n",
    "            raster_out.append(outpath+order)\n",
    "            raster_name.append(bmapname)\n",
    "    pool.map(buil_tif,map_csv,raster_out,raster_name)\n",
    "    #buil_tif(map_csv[0],raster_out[0],raster_name[0])\n",
    "    print(time()-t1)\n",
    "    t1 = time()\n",
    "pool.close()\n",
    "pool.join()\n"
   ]
  }
 ],
 "metadata": {
  "kernelspec": {
   "display_name": "Python 3",
   "language": "python",
   "name": "python3"
  },
  "language_info": {
   "codemirror_mode": {
    "name": "ipython",
    "version": 3
   },
   "file_extension": ".py",
   "mimetype": "text/x-python",
   "name": "python",
   "nbconvert_exporter": "python",
   "pygments_lexer": "ipython3",
   "version": "3.7.6"
  }
 },
 "nbformat": 4,
 "nbformat_minor": 4
}
