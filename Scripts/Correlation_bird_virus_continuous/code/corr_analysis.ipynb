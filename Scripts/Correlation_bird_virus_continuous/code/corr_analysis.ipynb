{
 "cells": [
  {
   "cell_type": "code",
   "execution_count": 1,
   "metadata": {},
   "outputs": [],
   "source": [
    "import pandas as pd\n",
    "import os \n",
    "import matplotlib.pyplot as plt\n",
    "from functools import partial\n",
    "import pdb\n",
    "from scipy import stats\n",
    "import numpy as np\n",
    "%matplotlib inline\n",
    "import statsmodels.api as sm"
   ]
  },
  {
   "cell_type": "code",
   "execution_count": 2,
   "metadata": {},
   "outputs": [],
   "source": [
    "file = '../data/dataset_2.3.4.4.csv'\n",
    "df34 = pd.read_csv(file).infer_objects()\n",
    "df34.rename(columns={'Unnamed: 0':'Date'},inplace=True)\n",
    "\n",
    "df2=df34.loc[:,'0.1':'0.95']*1\n",
    "\n",
    "for hpd in range(10,100,5):\n",
    "    df2['HPD%s'%(hpd)] = df2[str(hpd/100)]*(hpd/100)\n",
    "    df2.drop([str(hpd/100)],axis=1,inplace=True)\n",
    "df2['HPD'] = df2.loc[:,'HPD10':'HPD95'].apply(lambda x:\n",
    "                                    min(list(filter(lambda s:s!=0,x.to_list())))\n",
    "                                    if list(filter(lambda s:s!=0,x.to_list()))!=[]\n",
    "                                    else 0,axis=1)\n",
    "df34.drop(['0.1','0.15','0.2','0.25','0.3','0.35','0.4','0.45','0.5','0.55','0.6','0.65','0.7',\n",
    "          '0.75','0.8','0.85','0.9','0.95'],axis=1,inplace=True)\n",
    "\n",
    "df34['virus'] = df2['HPD']"
   ]
  },
  {
   "cell_type": "code",
   "execution_count": 3,
   "metadata": {},
   "outputs": [],
   "source": [
    "df = df34.copy().replace(0, np.NaN)\n",
    "virus_mean_monthly = df.groupby(['point','month'],as_index=False)['virus'].mean()\n",
    "virus_min_monthly = df.groupby(['point','month'],as_index=False)['virus'].min()\n",
    "virus_max_monthly = df.groupby(['point','month'],as_index=False)['virus'].max()\n",
    "vmean = virus_mean_monthly.pivot(index='point',values='virus',columns='month')\n",
    "vmin = virus_min_monthly.pivot(index='point',values='virus',columns='month')\n",
    "vmax = virus_max_monthly.pivot(index='point',values='virus',columns='month')"
   ]
  },
  {
   "cell_type": "code",
   "execution_count": 4,
   "metadata": {},
   "outputs": [
    {
     "name": "stderr",
     "output_type": "stream",
     "text": [
      "<ipython-input-4-be87a1f013cb>:1: FutureWarning: Indexing with multiple keys (implicitly converted to a tuple of keys) will be deprecated, use a list instead.\n",
      "  bird_all_monthly = df34.groupby(['point','month'],as_index=False)['Pelecaniformes','Gruiformes','Passeriformes',\n"
     ]
    }
   ],
   "source": [
    "bird_all_monthly = df34.groupby(['point','month'],as_index=False)['Pelecaniformes','Gruiformes','Passeriformes',\n",
    "                           'Suliformes', 'Ciconiiformes', 'Falconiformes',\n",
    "                           'Charadriiformes', 'Anseriformes', 'Accipitriformes',\n",
    "                           'Procellariiformes'].mean()\n",
    "#bird_all_monthly.to_csv(r'../data/2.3.4.4_crosscorr/allbirds_prob.csv')\n",
    "\n",
    "pele = bird_all_monthly.pivot(index='point',columns='month',values='Pelecaniformes')\n",
    "gru = bird_all_monthly.pivot(index='point',columns='month',values='Gruiformes')\n",
    "pas = bird_all_monthly.pivot(index='point',columns='month',values='Passeriformes')\n",
    "suli = bird_all_monthly.pivot(index='point',columns='month',values='Suliformes')\n",
    "cico = bird_all_monthly.pivot(index='point',columns='month',values='Ciconiiformes')\n",
    "falc = bird_all_monthly.pivot(index='point',columns='month',values='Falconiformes')\n",
    "chara = bird_all_monthly.pivot(index='point',columns='month',values='Charadriiformes')\n",
    "ans = bird_all_monthly.pivot(index='point',columns='month',values='Anseriformes')\n",
    "acci = bird_all_monthly.pivot(index='point',columns='month',values='Accipitriformes')"
   ]
  },
  {
   "cell_type": "code",
   "execution_count": 5,
   "metadata": {},
   "outputs": [],
   "source": [
    "bird_orders = pd.Series([pele,gru,pas,suli,cico,falc,chara,ans,acci],index=['Pelecaniformes','Gruiformes','Passeriformes',\n",
    "                           'Suliformes', 'Ciconiiformes', 'Falconiformes',\n",
    "                           'Charadriiformes', 'Anseriformes', 'Accipitriformes'])"
   ]
  },
  {
   "cell_type": "code",
   "execution_count": 27,
   "metadata": {},
   "outputs": [
    {
     "name": "stderr",
     "output_type": "stream",
     "text": [
      "/Library/Frameworks/Python.framework/Versions/3.9/lib/python3.9/site-packages/statsmodels/tsa/stattools.py:1104: RuntimeWarning: invalid value encountered in true_divide\n",
      "  return cvf / (np.std(x) * np.std(y))\n"
     ]
    },
    {
     "data": {
      "image/png": "[encoded data removed]",
      "text/plain": [
       "<Figure size 432x288 with 9 Axes>"
      ]
     },
     "metadata": {
      "needs_background": "light"
     },
     "output_type": "display_data"
    }
   ],
   "source": [
    "'''Cross-correlation of virus probablity and bird probability of each bird Order'''\n",
    "crosscrr_mean = pd.DataFrame()\n",
    "crosscrr_min = pd.DataFrame()\n",
    "crosscrr_max = pd.DataFrame()\n",
    "\n",
    "virus_prob_rand = vmean.copy()\n",
    "virus_prob = vmean.copy()\n",
    "for row in range(0,1000):\n",
    "    virus_prob_rand.iloc[row,:] = np.random.random(12)\n",
    "\n",
    "\n",
    "bird_orders = pd.Series([pele,gru,pas,suli,cico,falc,chara,ans,acci],index=['Pelecaniformes','Gruiformes','Passeriformes',\n",
    "                           'Suliformes', 'Ciconiiformes', 'Falconiformes',\n",
    "                           'Charadriiformes', 'Anseriformes', 'Accipitriformes'])\n",
    "\n",
    "fig, axs = plt.subplots(3,3,sharey=True, tight_layout=True)\n",
    "\n",
    "r=0\n",
    "c=0\n",
    "for i in bird_orders.index:\n",
    "    x = bird_orders.loc[i]\n",
    "    crr_m = virus_prob\n",
    "    crr_m_rand = virus_prob_rand\n",
    "    for point in range(len(x)):\n",
    "        crr_m.iloc[point,:] = sm.tsa.stattools.ccf(virus_prob.iloc[point,:], x.iloc[point,:], adjusted=False)\n",
    "        crr_m_rand.iloc[point,:] = sm.tsa.stattools.ccf(virus_prob_rand.iloc[point,:], x.iloc[point,:], adjusted=False)\n",
    "    \n",
    "    crr_m.to_csv(r'../data/2.3.4.4_crosscorr/Monthly_crr_%s.csv'%i)\n",
    "    m = pd.read_csv(r'../data/2.3.4.4_crosscorr/Monthly_crr_%s.csv'%i)\n",
    "    crr_m_rand.to_csv(r'../data/2.3.4.4_crosscorr/Rand_crr_%s.csv'%i)\n",
    "    m_rand = pd.read_csv(r'../data/2.3.4.4_crosscorr/Rand_crr_%s.csv'%i)\n",
    "    \n",
    "    axs[r,c].hist([m.iloc[:,1],m_rand.iloc[:,1]],bins=100,alpha=0.5)\n",
    "    axs[r,c].axvline(m.iloc[:,1].mean(), color='blue', linestyle='dashed', linewidth=1)\n",
    "    axs[r,c].axvline(m_rand.iloc[:,1].mean(), color='red', linestyle='dashed', linewidth=1)\n",
    "\n",
    "    axs[r,c].set_title(r'%s'%i)\n",
    "    \n",
    "    if r<2:\n",
    "        r += 1\n",
    "    elif r==2 and c<2:\n",
    "        r = 0\n",
    "        c += 1\n",
    "    \n",
    "#fig.savefig(r'../data/2.3.4.4_crosscorr/Crr_0moLag.png',figsize=[12,12],dpi=300)"
   ]
  },
  {
   "cell_type": "code",
   "execution_count": 9,
   "metadata": {},
   "outputs": [
    {
     "name": "stderr",
     "output_type": "stream",
     "text": [
      "/Library/Frameworks/Python.framework/Versions/3.9/lib/python3.9/site-packages/statsmodels/tsa/stattools.py:1104: RuntimeWarning: invalid value encountered in true_divide\n",
      "  return cvf / (np.std(x) * np.std(y))\n",
      "<ipython-input-9-912808cec4c6>:55: MatplotlibDeprecationWarning: savefig() got unexpected keyword argument \"figsize\" which is no longer supported as of 3.3 and will become an error in 3.6\n",
      "  fig.savefig(r'../data/2.3.4.4_crosscorr/Crr_1moLag.png',figsize=[12,12],dpi=300)\n"
     ]
    },
    {
     "data": {
      "image/png": "[encoded data removed]",
      "text/plain": [
       "<Figure size 432x288 with 9 Axes>"
      ]
     },
     "metadata": {
      "needs_background": "light"
     },
     "output_type": "display_data"
    }
   ],
   "source": [
    "'''Cross-correlation of virus probablity and bird probability of each bird Order'''\n",
    "crosscrr_mean = pd.DataFrame()\n",
    "crosscrr_min = pd.DataFrame()\n",
    "crosscrr_max = pd.DataFrame()\n",
    "\n",
    "virus_prob_rand = vmean.copy()\n",
    "virus_prob = vmean.copy()\n",
    "for row in range(0,1000):\n",
    "    virus_prob_rand.iloc[row,:] = np.random.random(12)\n",
    "\n",
    "\n",
    "bird_orders = pd.Series([pele,gru,pas,suli,cico,falc,chara,ans,acci],index=['Pelecaniformes','Gruiformes','Passeriformes',\n",
    "                           'Suliformes', 'Ciconiiformes', 'Falconiformes',\n",
    "                           'Charadriiformes', 'Anseriformes', 'Accipitriformes'])\n",
    "\n",
    "fig, axs = plt.subplots(3,3,sharey=True, tight_layout=True)\n",
    "\n",
    "r=0\n",
    "c=0\n",
    "for i in bird_orders.index:\n",
    "    x = bird_orders.loc[i]\n",
    "    crr_m = virus_prob\n",
    "    crr_m_rand = virus_prob_rand\n",
    "    for point in range(len(x)):\n",
    "        crr_m.iloc[point,:] = sm.tsa.stattools.ccf(virus_prob.iloc[point,:], x.iloc[point,:], adjusted=False)\n",
    "        crr_m_rand.iloc[point,:] = sm.tsa.stattools.ccf(virus_prob_rand.iloc[point,:], x.iloc[point,:], adjusted=False)\n",
    "    \n",
    "    crr_m.to_csv(r'../data/2.3.4.4_crosscorr/Monthly_crr_%s.csv'%i)\n",
    "    m = pd.read_csv(r'../data/2.3.4.4_crosscorr/Monthly_crr_%s.csv'%i)\n",
    "    crr_m_rand.to_csv(r'../data/2.3.4.4_crosscorr/Rand_crr_%s.csv'%i)\n",
    "    m_rand = pd.read_csv(r'../data/2.3.4.4_crosscorr/Rand_crr_%s.csv'%i)\n",
    "    \n",
    "    axs[r,c].hist([m.iloc[:,2],m_rand.iloc[:,2]],bins=100,alpha=0.5)\n",
    "    axs[r,c].axvline(m.iloc[:,2].mean(), color='blue', linestyle='dashed', linewidth=1)\n",
    "    axs[r,c].axvline(m_rand.iloc[:,2].mean(), color='red', linestyle='dashed', linewidth=1)\n",
    "\n",
    "    axs[r,c].set_title(r'%s'%i)\n",
    "    \n",
    "    if r<2:\n",
    "        r += 1\n",
    "    elif r==2 and c<2:\n",
    "        r = 0\n",
    "        c += 1\n",
    "    \n",
    "    #mmean = m.iloc[:,[1,2,3,4,5,6,7,8,9,10,11,12]].mean()\n",
    "    #mmin = m.iloc[:,[1,2,3,4,5,6,7,8,9,10,11,12]].min()\n",
    "    #mmax = m.iloc[:,[1,2,3,4,5,6,7,8,9,10,11,12]].max()\n",
    "    #crosscrr_mean = pd.concat([crosscrr_mean,mmean.rename(i)],axis=1)\n",
    "    #crosscrr_min = pd.concat([crosscrr_min,mmin.rename(i)],axis=1)\n",
    "    #crosscrr_max = pd.concat([crosscrr_max,mmax.rename(i)],axis=1)\n",
    "    #crosscrr_mean.to_csv(r'../data/2.3.4.4_crosscorr/crosscrr_mean.csv')\n",
    "    #crosscrr_min.to_csv(r'../data/2.3.4.4_crosscorr/crosscrr_min.csv')\n",
    "    #crosscrr_max.to_csv(r'../data/2.3.4.4_crosscorr/crosscrr_max.csv')\n",
    "    \n",
    "fig.savefig(r'../data/2.3.4.4_crosscorr/Crr_1moLag.png',figsize=[12,12],dpi=300)"
   ]
  },
  {
   "cell_type": "code",
   "execution_count": 6,
   "metadata": {},
   "outputs": [
    {
     "name": "stderr",
     "output_type": "stream",
     "text": [
      "/Library/Frameworks/Python.framework/Versions/3.9/lib/python3.9/site-packages/statsmodels/tsa/stattools.py:1104: RuntimeWarning: invalid value encountered in true_divide\n",
      "  return cvf / (np.std(x) * np.std(y))\n",
      "<ipython-input-6-c2ac0d9c6999>:55: MatplotlibDeprecationWarning: savefig() got unexpected keyword argument \"figsize\" which is no longer supported as of 3.3 and will become an error in 3.6\n",
      "  fig.savefig(r'../data/2.3.4.4_crosscorr/Crr_2moLag.png',figsize=[12,12],dpi=300)\n"
     ]
    },
    {
     "data": {
      "image/png": "[encoded data removed]",
      "text/plain": [
       "<Figure size 432x288 with 9 Axes>"
      ]
     },
     "metadata": {
      "needs_background": "light"
     },
     "output_type": "display_data"
    }
   ],
   "source": [
    "'''Cross-correlation of virus probablity and bird probability of each bird Order'''\n",
    "crosscrr_mean = pd.DataFrame()\n",
    "crosscrr_min = pd.DataFrame()\n",
    "crosscrr_max = pd.DataFrame()\n",
    "\n",
    "virus_prob_rand = vmean.copy()\n",
    "virus_prob = vmean.copy()\n",
    "for row in range(0,1000):\n",
    "    virus_prob_rand.iloc[row,:] = np.random.random(12)\n",
    "\n",
    "\n",
    "bird_orders = pd.Series([pele,gru,pas,suli,cico,falc,chara,ans,acci],index=['Pelecaniformes','Gruiformes','Passeriformes',\n",
    "                           'Suliformes', 'Ciconiiformes', 'Falconiformes',\n",
    "                           'Charadriiformes', 'Anseriformes', 'Accipitriformes'])\n",
    "\n",
    "fig, axs = plt.subplots(3,3,sharey=True, tight_layout=True)\n",
    "\n",
    "r=0\n",
    "c=0\n",
    "for i in bird_orders.index:\n",
    "    x = bird_orders.loc[i]\n",
    "    crr_m = virus_prob\n",
    "    crr_m_rand = virus_prob_rand\n",
    "    for point in range(len(x)):\n",
    "        crr_m.iloc[point,:] = sm.tsa.stattools.ccf(virus_prob.iloc[point,:], x.iloc[point,:], adjusted=False)\n",
    "        crr_m_rand.iloc[point,:] = sm.tsa.stattools.ccf(virus_prob_rand.iloc[point,:], x.iloc[point,:], adjusted=False)\n",
    "    \n",
    "    crr_m.to_csv(r'../data/2.3.4.4_crosscorr/Monthly_crr_%s.csv'%i)\n",
    "    m = pd.read_csv(r'../data/2.3.4.4_crosscorr/Monthly_crr_%s.csv'%i)\n",
    "    crr_m_rand.to_csv(r'../data/2.3.4.4_crosscorr/Rand_crr_%s.csv'%i)\n",
    "    m_rand = pd.read_csv(r'../data/2.3.4.4_crosscorr/Rand_crr_%s.csv'%i)\n",
    "    \n",
    "    axs[r,c].hist([m.iloc[:,3],m_rand.iloc[:,3]],bins=100,alpha=0.5)\n",
    "    axs[r,c].axvline(m.iloc[:,3].mean(), color='blue', linestyle='dashed', linewidth=1)\n",
    "    axs[r,c].axvline(m_rand.iloc[:,3].mean(), color='red', linestyle='dashed', linewidth=1)\n",
    "\n",
    "    axs[r,c].set_title(r'%s'%i)\n",
    "    \n",
    "    if r<2:\n",
    "        r += 1\n",
    "    elif r==2 and c<2:\n",
    "        r = 0\n",
    "        c += 1\n",
    "    \n",
    "    #mmean = m.iloc[:,[1,2,3,4,5,6,7,8,9,10,11,12]].mean()\n",
    "    #mmin = m.iloc[:,[1,2,3,4,5,6,7,8,9,10,11,12]].min()\n",
    "    #mmax = m.iloc[:,[1,2,3,4,5,6,7,8,9,10,11,12]].max()\n",
    "    #crosscrr_mean = pd.concat([crosscrr_mean,mmean.rename(i)],axis=1)\n",
    "    #crosscrr_min = pd.concat([crosscrr_min,mmin.rename(i)],axis=1)\n",
    "    #crosscrr_max = pd.concat([crosscrr_max,mmax.rename(i)],axis=1)\n",
    "    #crosscrr_mean.to_csv(r'../data/2.3.4.4_crosscorr/crosscrr_mean.csv')\n",
    "    #crosscrr_min.to_csv(r'../data/2.3.4.4_crosscorr/crosscrr_min.csv')\n",
    "    #crosscrr_max.to_csv(r'../data/2.3.4.4_crosscorr/crosscrr_max.csv')\n",
    "    \n",
    "fig.savefig(r'../data/2.3.4.4_crosscorr/Crr_2moLag.png',figsize=[12,12],dpi=300)"
   ]
  },
  {
   "cell_type": "code",
   "execution_count": 8,
   "metadata": {},
   "outputs": [
    {
     "name": "stdout",
     "output_type": "stream",
     "text": [
      "lag= 1 Pelecaniformes Correlation coeficient= 4.900166571375901 p value= 1.070675697386185e-06\n",
      "lag= 2 Pelecaniformes Correlation coeficient= 7.7030970175294495 p value= 2.5201290631458937e-14\n",
      "lag= 3 Pelecaniformes Correlation coeficient= 5.4364843551852156 p value= 6.417772684227017e-08\n",
      "lag= 4 Pelecaniformes Correlation coeficient= 3.2677674926835523 p value= 0.0011106429678883895\n",
      "lag= 5 Pelecaniformes Correlation coeficient= 2.4546484828485258 p value= 0.014224886184956065\n",
      "lag= 0 Suliformes Correlation coeficient= 2.1075001787648633 p value= 0.03525437131599307\n",
      "lag= 1 Suliformes Correlation coeficient= 2.5793973489466753 p value= 0.010000054863166373\n",
      "lag= 2 Suliformes Correlation coeficient= 2.364402627845786 p value= 0.018197070783674003\n",
      "lag= 3 Ciconiiformes Correlation coeficient= 2.0022922165009573 p value= 0.04544882724142282\n",
      "lag= 4 Ciconiiformes Correlation coeficient= 2.78987567403208 p value= 0.005345410998718474\n",
      "lag= 5 Ciconiiformes Correlation coeficient= 3.06301842794871 p value= 0.00223360221225908\n",
      "lag= 0 Falconiformes Correlation coeficient= 3.0596430634864946 p value= 0.0022588777962813627\n",
      "lag= 1 Falconiformes Correlation coeficient= 3.230387915594184 p value= 0.0012654677642886278\n",
      "lag= 2 Falconiformes Correlation coeficient= 2.145738313352891 p value= 0.03206850785272929\n",
      "lag= 0 Anseriformes Correlation coeficient= 2.3722127894356344 p value= 0.017818884770387795\n"
     ]
    }
   ],
   "source": [
    "import scipy.stats as stats\n",
    "for i in bird_orders.index:\n",
    "    m = pd.read_csv(r'../data/2.3.4.4_crosscorr/Monthly_crr_%s.csv'%i)\n",
    "    m_rand = pd.read_csv(r'../data/2.3.4.4_crosscorr/Rand_crr_%s.csv'%i)\n",
    "    #perform two sample t-test with equal variances\n",
    "    for lag in range(1,7):\n",
    "        ttest = stats.ttest_ind(a=m.dropna().iloc[:,lag], b=m_rand.dropna().iloc[:,lag], equal_var=True)\n",
    "        if (ttest.pvalue < 0.05) & (ttest.statistic>0):\n",
    "            print('lag=',lag-1,i,'Correlation coeficient=',ttest.statistic,'p value=',ttest.pvalue)"
   ]
  },
  {
   "cell_type": "code",
   "execution_count": null,
   "metadata": {},
   "outputs": [],
   "source": []
  }
 ],
 "metadata": {
  "kernelspec": {
   "display_name": "Python 3",
   "language": "python",
   "name": "python3"
  },
  "language_info": {
   "codemirror_mode": {
    "name": "ipython",
    "version": 3
   },
   "file_extension": ".py",
   "mimetype": "text/x-python",
   "name": "python",
   "nbconvert_exporter": "python",
   "pygments_lexer": "ipython3",
   "version": "3.9.0"
  }
 },
 "nbformat": 4,
 "nbformat_minor": 4
}
