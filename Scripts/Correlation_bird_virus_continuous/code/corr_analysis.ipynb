{
 "cells": [
  {
   "cell_type": "code",
   "execution_count": 1,
   "metadata": {},
   "outputs": [],
   "source": [
    "import pandas as pd\n",
    "import os \n",
    "import matplotlib.pyplot as plt\n",
    "from functools import partial\n",
    "import pdb\n",
    "from scipy import stats\n",
    "import numpy as np\n",
    "%matplotlib inline\n",
    "import statsmodels.api as sm\n",
    "import scipy.stats as stats"
   ]
  },
  {
   "cell_type": "code",
   "execution_count": 2,
   "metadata": {},
   "outputs": [],
   "source": [
    "file = '../data/dataset_2.3.4.4.csv'\n",
    "df34 = pd.read_csv(file).infer_objects()\n",
    "df34.rename(columns={'Unnamed: 0':'Date'},inplace=True)\n",
    "\n",
    "df2=df34.loc[:,'0.1':'0.95']*1\n",
    "\n",
    "for hpd in range(10,100,5):\n",
    "    df2['HPD%s'%(hpd)] = df2[str(hpd/100)]*(hpd/100)\n",
    "    df2.drop([str(hpd/100)],axis=1,inplace=True)\n",
    "df2['HPD'] = df2.loc[:,'HPD10':'HPD95'].apply(lambda x:\n",
    "                                    min(list(filter(lambda s:s!=0,x.to_list())))\n",
    "                                    if list(filter(lambda s:s!=0,x.to_list()))!=[]\n",
    "                                    else 0,axis=1)\n",
    "df34.drop(['0.1','0.15','0.2','0.25','0.3','0.35','0.4','0.45','0.5','0.55','0.6','0.65','0.7',\n",
    "          '0.75','0.8','0.85','0.9','0.95'],axis=1,inplace=True)\n",
    "\n",
    "df34['virus'] = df2['HPD']\n",
    "df = df34.copy().replace(0, np.NaN)\n",
    "virus_mean_monthly = df.groupby(['point','month'],as_index=False)['virus'].mean()\n",
    "virus_min_monthly = df.groupby(['point','month'],as_index=False)['virus'].min()\n",
    "virus_max_monthly = df.groupby(['point','month'],as_index=False)['virus'].max()\n",
    "vmean = virus_mean_monthly.pivot(index='point',values='virus',columns='month')\n",
    "vmin = virus_min_monthly.pivot(index='point',values='virus',columns='month')\n",
    "vmax = virus_max_monthly.pivot(index='point',values='virus',columns='month')\n",
    "df.to_csv(r'../data/2.3.4.4_crosscorr/virus_prob_minHPD.csv')"
   ]
  },
  {
   "cell_type": "code",
   "execution_count": 3,
   "metadata": {},
   "outputs": [],
   "source": [
    "file = '../data/dataset_2.3.4.4.csv'\n",
    "df34 = pd.read_csv(file).infer_objects()\n",
    "df34.rename(columns={'Unnamed: 0':'Date'},inplace=True)\n",
    "\n",
    "df2=df34.loc[:,'0.1':'0.95']*1\n",
    "\n",
    "for hpd in range(10,100,5):\n",
    "    df2['HPD%s'%(hpd)] = df2[str(hpd/100)]*(hpd/100)\n",
    "    df2.drop([str(hpd/100)],axis=1,inplace=True)\n",
    "df2['HPD'] = df2.loc[:,'HPD10':'HPD95'].apply(lambda x:\n",
    "                                    1-min(list(filter(lambda s:s!=0,x.to_list())))\n",
    "                                    if list(filter(lambda s:s!=0,x.to_list()))!=[]\n",
    "                                    else 0,axis=1)\n",
    "df34.drop(['0.1','0.15','0.2','0.25','0.3','0.35','0.4','0.45','0.5','0.55','0.6','0.65','0.7',\n",
    "          '0.75','0.8','0.85','0.9','0.95'],axis=1,inplace=True)\n",
    "\n",
    "df34['virus'] = df2['HPD']"
   ]
  },
  {
   "cell_type": "code",
   "execution_count": 4,
   "metadata": {},
   "outputs": [],
   "source": [
    "df = df34.copy().replace(0, np.NaN)\n",
    "virus_mean_monthly = df.groupby(['point','month'],as_index=False)['virus'].mean()\n",
    "virus_min_monthly = df.groupby(['point','month'],as_index=False)['virus'].min()\n",
    "virus_max_monthly = df.groupby(['point','month'],as_index=False)['virus'].max()\n",
    "vmean = virus_mean_monthly.pivot(index='point',values='virus',columns='month')\n",
    "vmin = virus_min_monthly.pivot(index='point',values='virus',columns='month')\n",
    "vmax = virus_max_monthly.pivot(index='point',values='virus',columns='month')"
   ]
  },
  {
   "cell_type": "code",
   "execution_count": 5,
   "metadata": {},
   "outputs": [],
   "source": [
    "df.to_csv(r'../data/2.3.4.4_crosscorr/virus_prob_reverseHPD.csv')"
   ]
  },
  {
   "cell_type": "code",
   "execution_count": 4,
   "metadata": {},
   "outputs": [
    {
     "name": "stderr",
     "output_type": "stream",
     "text": [
      "<ipython-input-4-be87a1f013cb>:1: FutureWarning: Indexing with multiple keys (implicitly converted to a tuple of keys) will be deprecated, use a list instead.\n",
      "  bird_all_monthly = df34.groupby(['point','month'],as_index=False)['Pelecaniformes','Gruiformes','Passeriformes',\n"
     ]
    }
   ],
   "source": [
    "bird_all_monthly = df34.groupby(['point','month'],as_index=False)['Pelecaniformes','Gruiformes','Passeriformes',\n",
    "                           'Suliformes', 'Ciconiiformes', 'Falconiformes',\n",
    "                           'Charadriiformes', 'Anseriformes', 'Accipitriformes',\n",
    "                           'Procellariiformes'].mean()\n",
    "#bird_all_monthly.to_csv(r'../data/2.3.4.4_crosscorr/allbirds_prob.csv')\n",
    "\n",
    "pele = bird_all_monthly.pivot(index='point',columns='month',values='Pelecaniformes')\n",
    "gru = bird_all_monthly.pivot(index='point',columns='month',values='Gruiformes')\n",
    "pas = bird_all_monthly.pivot(index='point',columns='month',values='Passeriformes')\n",
    "suli = bird_all_monthly.pivot(index='point',columns='month',values='Suliformes')\n",
    "cico = bird_all_monthly.pivot(index='point',columns='month',values='Ciconiiformes')\n",
    "falc = bird_all_monthly.pivot(index='point',columns='month',values='Falconiformes')\n",
    "chara = bird_all_monthly.pivot(index='point',columns='month',values='Charadriiformes')\n",
    "ans = bird_all_monthly.pivot(index='point',columns='month',values='Anseriformes')\n",
    "acci = bird_all_monthly.pivot(index='point',columns='month',values='Accipitriformes')"
   ]
  },
  {
   "cell_type": "code",
   "execution_count": 5,
   "metadata": {},
   "outputs": [],
   "source": [
    "bird_orders = pd.Series([pele,gru,pas,suli,cico,falc,chara,ans,acci],index=['Pelecaniformes','Gruiformes','Passeriformes',\n",
    "                           'Suliformes', 'Ciconiiformes', 'Falconiformes',\n",
    "                           'Charadriiformes', 'Anseriformes', 'Accipitriformes'])"
   ]
  },
  {
   "cell_type": "code",
   "execution_count": 178,
   "metadata": {},
   "outputs": [],
   "source": [
    "virus_prob = vmean.copy().reset_index(drop=True)\n",
    "virus_prob_shuf = virus_prob.sample(frac=1).reset_index(drop=True)\n",
    "\n",
    "virus_prob_shuf1 = virus_prob.sample(frac=1, axis=1)\n",
    "virus_prob_shuf1.columns = range(virus_prob_shuf1.columns.size)\n",
    "\n",
    "virus_prob_shuf2 = virus_prob.sample(frac=1, axis=1).sample(frac=1).reset_index(drop=True)"
   ]
  },
  {
   "cell_type": "code",
   "execution_count": 281,
   "metadata": {},
   "outputs": [],
   "source": [
    "'''Pearson correlation between bird emergence prob at 1000 locations in a month and \n",
    "its viral emergence probability in the same month or a different month'''\n",
    "crr = pd.DataFrame(np.arange(108).reshape(9, 12), index=['Pelecaniformes','Gruiformes','Passeriformes',\n",
    "                           'Suliformes', 'Ciconiiformes', 'Falconiformes',\n",
    "                           'Charadriiformes', 'Anseriformes', 'Accipitriformes'],columns=virus_prob.columns)\n",
    "crr_shuf = crr.copy()\n",
    "crr_shuf2 = crr.copy()\n",
    "\n",
    "for i in bird_orders.index:\n",
    "    x = bird_orders.loc[i]\n",
    "    x1 = x.reset_index()\n",
    "    \n",
    "    crr.loc[i,:] = virus_prob.corrwith(x1)\n",
    "    crr_shuf.loc[i,:] = virus_prob_shuf.corrwith(x1)"
   ]
  },
  {
   "cell_type": "code",
   "execution_count": 251,
   "metadata": {},
   "outputs": [],
   "source": [
    "crr = list()\n",
    "p = list()\n",
    "\n",
    "for v_month in range(12):\n",
    "    crr_tmp = pd.DataFrame(np.arange(108).reshape(9, 12), index=['Pelecaniformes','Gruiformes','Passeriformes',\n",
    "                           'Suliformes', 'Ciconiiformes', 'Falconiformes',\n",
    "                           'Charadriiformes', 'Anseriformes', 'Accipitriformes'],columns=virus_prob.columns)\n",
    "    p_tmp = pd.DataFrame(np.arange(108).reshape(9, 12), index=['Pelecaniformes','Gruiformes','Passeriformes',\n",
    "                           'Suliformes', 'Ciconiiformes', 'Falconiformes',\n",
    "                           'Charadriiformes', 'Anseriformes', 'Accipitriformes'],columns=virus_prob.columns)\n",
    "    for i in bird_orders.index:\n",
    "        x = bird_orders.loc[i]\n",
    "        for b_month in range(1,13):\n",
    "            crr_tmp.loc[i,b_month],p_tmp.loc[i,b_month] = stats.spearmanr(virus_prob.iloc[:,v_month].to_numpy(),\n",
    "                                                     x.loc[:,b_month].to_numpy(),nan_policy='omit')\n",
    "            \n",
    "    crr.append(crr_tmp)\n",
    "    p.append(p_tmp)"
   ]
  },
  {
   "cell_type": "code",
   "execution_count": 104,
   "metadata": {},
   "outputs": [
    {
     "data": {
      "image/png": "[encoded data removed]",
      "text/plain": [
       "<Figure size 432x288 with 9 Axes>"
      ]
     },
     "metadata": {
      "needs_background": "light"
     },
     "output_type": "display_data"
    }
   ],
   "source": [
    "'''1. Cross-correlation of virus probablity at Location A and bird probability of each bird order at Location A-1'''\n",
    "'''2. Compare the distribution plot and the mean value'''\n",
    "fig, axs = plt.subplots(3,3,sharey=True, tight_layout=True)\n",
    "r=0\n",
    "c=0\n",
    "for i in bird_orders.index:\n",
    "    x = bird_orders.loc[i]\n",
    "    crr_m = virus_prob.copy()\n",
    "    crr_m_rand = virus_prob.copy()\n",
    "    \n",
    "    for point in range(len(x)):\n",
    "        crr_m.iloc[point,:] = sm.tsa.stattools.ccf(virus_prob.iloc[point,:], x.iloc[point,:], adjusted=False, fft=False)\n",
    "        crr_m_rand.iloc[point,:] = sm.tsa.stattools.ccf(virus_prob_shuf.iloc[point,:], x.iloc[point,:], adjusted=False, fft=False)\n",
    "        \n",
    "    crr_m.to_csv(r'../data/2.3.4.4_crosscorr/Monthly2_crr_%s.csv'%i)\n",
    "    m = pd.read_csv(r'../data/2.3.4.4_crosscorr/Monthly2_crr_%s.csv'%i)\n",
    "    crr_m_rand.to_csv(r'../data/2.3.4.4_crosscorr/Shuf_crr_%s.csv'%i)\n",
    "    m_rand = pd.read_csv(r'../data/2.3.4.4_crosscorr/Shuf_crr_%s.csv'%i)\n",
    "    \n",
    "    axs[r,c].hist([m.iloc[:,1],m_rand.iloc[:,1]],bins=100,alpha=0.5)\n",
    "    axs[r,c].axvline(m_rand.iloc[:,1].mean(), color='red', linestyle='dashed', linewidth=1)\n",
    "    axs[r,c].axvline(m.iloc[:,1].mean(), color='blue', linestyle='dashed', linewidth=1)\n",
    "    \n",
    "\n",
    "    axs[r,c].set_title(r'%s'%i)\n",
    "    \n",
    "    if r<2:\n",
    "        r += 1\n",
    "    elif r==2 and c<2:\n",
    "        r = 0\n",
    "        c += 1\n"
   ]
  },
  {
   "cell_type": "code",
   "execution_count": 102,
   "metadata": {},
   "outputs": [
    {
     "name": "stdout",
     "output_type": "stream",
     "text": [
      "lag= 1 Pelecaniformes Correlation coeficient= 3.1077908799159415 p value= 0.0019545629157248653\n",
      "lag= 2 Pelecaniformes Correlation coeficient= 4.469824744568308 p value= 9.011069959859876e-06\n",
      "lag= 1 Passeriformes Correlation coeficient= 6.8148024176510456 p value= 1.91201456799833e-11\n",
      "lag= 2 Passeriformes Correlation coeficient= 8.611529763313511 p value= 4.0776264473570797e-17\n",
      "lag= 3 Passeriformes Correlation coeficient= 4.5585845431492436 p value= 5.992914338177838e-06\n",
      "lag= 8 Suliformes Correlation coeficient= 3.011602050733549 p value= 0.0026841908427947788\n",
      "lag= 9 Suliformes Correlation coeficient= 5.241327534493927 p value= 2.0633763903206617e-07\n",
      "lag= 10 Suliformes Correlation coeficient= 7.258672588573476 p value= 9.609842822593648e-13\n",
      "lag= 2 Ciconiiformes Correlation coeficient= 4.7938566015303445 p value= 1.9656431650952265e-06\n",
      "lag= 3 Ciconiiformes Correlation coeficient= 2.994155357986226 p value= 0.002840639325748412\n",
      "lag= 0 Falconiformes Correlation coeficient= 2.5654320027080435 p value= 0.010494483227117863\n",
      "lag= 9 Falconiformes Correlation coeficient= 3.9050411441352972 p value= 0.00010254331831694685\n",
      "lag= 10 Falconiformes Correlation coeficient= 3.851262770423758 p value= 0.0001273577338218882\n",
      "lag= 1 Charadriiformes Correlation coeficient= 6.577874842311034 p value= 8.836991662341062e-11\n",
      "lag= 2 Charadriiformes Correlation coeficient= 6.575189915309046 p value= 8.989253203532696e-11\n",
      "lag= 9 Anseriformes Correlation coeficient= 2.2475510151332707 p value= 0.024888629705596823\n",
      "lag= 1 Accipitriformes Correlation coeficient= 8.016755382342382 p value= 4.052601032594654e-15\n",
      "lag= 2 Accipitriformes Correlation coeficient= 10.730695624501843 p value= 4.0163764807810285e-25\n",
      "lag= 3 Accipitriformes Correlation coeficient= 4.416070584767315 p value= 1.1496949388076868e-05\n"
     ]
    }
   ],
   "source": [
    "\n",
    "for i in bird_orders.index:\n",
    "    m = pd.read_csv(r'../data/2.3.4.4_crosscorr/Monthly2_crr_%s.csv'%i)\n",
    "    m_rand = pd.read_csv(r'../data/2.3.4.4_crosscorr/Shuf1_crr_%s.csv'%i)\n",
    "    #perform two sample t-test with equal variances\n",
    "    for lag in range(1,12):\n",
    "        ttest = stats.ttest_ind(a=m.dropna().iloc[:,lag], b=m_rand.dropna().iloc[:,lag], equal_var=True)\n",
    "        if (ttest.pvalue < 0.05) & (ttest.statistic>0):\n",
    "            print('lag=',lag-1,i,'Correlation coeficient=',ttest.statistic,'p value=',ttest.pvalue)"
   ]
  },
  {
   "cell_type": "code",
   "execution_count": 93,
   "metadata": {},
   "outputs": [
    {
     "name": "stderr",
     "output_type": "stream",
     "text": [
      "/Library/Frameworks/Python.framework/Versions/3.9/lib/python3.9/site-packages/statsmodels/tsa/stattools.py:1104: RuntimeWarning: invalid value encountered in true_divide\n",
      "  return cvf / (np.std(x) * np.std(y))\n"
     ]
    },
    {
     "data": {
      "image/png": "[encoded data removed]",
      "text/plain": [
       "<Figure size 432x288 with 9 Axes>"
      ]
     },
     "metadata": {
      "needs_background": "light"
     },
     "output_type": "display_data"
    }
   ],
   "source": [
    "'''Cross-correlation of virus probablity and bird probability of each bird Order'''\n",
    "virus_prob_rand = virus_prob.copy()\n",
    "\n",
    "for row in range(0,1000):\n",
    "    virus_prob_rand.iloc[row,:] = np.random.random(12)\n",
    "\n",
    "fig, axs = plt.subplots(3,3,sharey=True, tight_layout=True)\n",
    "\n",
    "r=0\n",
    "c=0\n",
    "for i in bird_orders.index:\n",
    "    x = bird_orders.loc[i]\n",
    "    #crr_m = virus_prob\n",
    "    crr_m_rand = virus_prob_rand\n",
    "    for point in range(len(x)):\n",
    "        crr_m.iloc[point,:] = sm.tsa.stattools.ccf(virus_prob.iloc[point,:], x.iloc[point,:], adjusted=False)\n",
    "        crr_m_rand.iloc[point,:] = sm.tsa.stattools.ccf(virus_prob_rand.iloc[point,:], x.iloc[point,:], adjusted=False,fft=False)\n",
    "    \n",
    "    #crr_m.to_csv(r'../data/2.3.4.4_crosscorr/Monthly_crr_%s.csv'%i)\n",
    "    m = pd.read_csv(r'../data/2.3.4.4_crosscorr/Monthly_crr_%s.csv'%i)\n",
    "    crr_m_rand.to_csv(r'../data/2.3.4.4_crosscorr/Rand_crr_%s.csv'%i)\n",
    "    m_rand = pd.read_csv(r'../data/2.3.4.4_crosscorr/Rand_crr_%s.csv'%i)\n",
    "    \n",
    "    axs[r,c].hist([m.iloc[:,1],m_rand.iloc[:,1]],bins=100,alpha=0.5)\n",
    "    axs[r,c].axvline(m.iloc[:,1].mean(), color='blue', linestyle='dashed', linewidth=1)\n",
    "    axs[r,c].axvline(m_rand.iloc[:,1].mean(), color='red', linestyle='dashed', linewidth=1)\n",
    "\n",
    "    axs[r,c].set_title(r'%s'%i)\n",
    "    \n",
    "    if r<2:\n",
    "        r += 1\n",
    "    elif r==2 and c<2:\n",
    "        r = 0\n",
    "        c += 1\n",
    "    \n",
    "#fig.savefig(r'../data/2.3.4.4_crosscorr/Crr_0moLag.png',figsize=[12,12],dpi=300)"
   ]
  },
  {
   "cell_type": "code",
   "execution_count": 95,
   "metadata": {},
   "outputs": [
    {
     "name": "stdout",
     "output_type": "stream",
     "text": [
      "lag= 1 Pelecaniformes Correlation coeficient= 3.786908701991049 p value= 0.00015907984041526357\n",
      "lag= 2 Pelecaniformes Correlation coeficient= 6.5871461578604835 p value= 6.357255483629693e-11\n",
      "lag= 3 Pelecaniformes Correlation coeficient= 5.005692674100014 p value= 6.283078782569038e-07\n",
      "lag= 4 Pelecaniformes Correlation coeficient= 2.7557922547520493 p value= 0.0059319955674187125\n",
      "lag= 5 Pelecaniformes Correlation coeficient= 2.4243728138282763 p value= 0.01546251448616602\n",
      "lag= 9 Gruiformes Correlation coeficient= 4.986048413592349 p value= 6.945028135334725e-07\n",
      "lag= 10 Gruiformes Correlation coeficient= 5.986749195048839 p value= 2.7258235411973415e-09\n",
      "lag= 4 Ciconiiformes Correlation coeficient= 2.139596433464114 p value= 0.03256250642278503\n",
      "lag= 5 Ciconiiformes Correlation coeficient= 3.109420412393225 p value= 0.0019129248539527957\n",
      "lag= 6 Ciconiiformes Correlation coeficient= 2.6450709852823087 p value= 0.008260158777507881\n",
      "lag= 0 Falconiformes Correlation coeficient= 3.8911542820694716 p value= 0.0001045420385474095\n",
      "lag= 1 Falconiformes Correlation coeficient= 3.7209216617293768 p value= 0.00020649802686297235\n",
      "lag= 2 Falconiformes Correlation coeficient= 2.3294177578928603 p value= 0.019981154484149482\n",
      "lag= 0 Anseriformes Correlation coeficient= 2.1842000443011322 p value= 0.029116000212638975\n",
      "lag= 4 Accipitriformes Correlation coeficient= 1.9770531640167721 p value= 0.04823511357546496\n"
     ]
    }
   ],
   "source": [
    "import scipy.stats as stats\n",
    "for i in bird_orders.index:\n",
    "    m = pd.read_csv(r'../data/2.3.4.4_crosscorr/Monthly_crr_%s.csv'%i)\n",
    "    m_rand = pd.read_csv(r'../data/2.3.4.4_crosscorr/Rand_crr_%s.csv'%i)\n",
    "    #perform two sample t-test with equal variances\n",
    "    for lag in range(1,12):\n",
    "        ttest = stats.ttest_ind(a=m.dropna().iloc[:,lag], b=m_rand.dropna().iloc[:,lag], equal_var=True)\n",
    "        if (ttest.pvalue < 0.05) & (ttest.statistic>0):\n",
    "            print('lag=',lag-1,i,'Correlation coeficient=',ttest.statistic,'p value=',ttest.pvalue)"
   ]
  },
  {
   "cell_type": "code",
   "execution_count": 9,
   "metadata": {
    "collapsed": true,
    "jupyter": {
     "outputs_hidden": true
    }
   },
   "outputs": [
    {
     "name": "stderr",
     "output_type": "stream",
     "text": [
      "/Library/Frameworks/Python.framework/Versions/3.9/lib/python3.9/site-packages/statsmodels/tsa/stattools.py:1104: RuntimeWarning: invalid value encountered in true_divide\n",
      "  return cvf / (np.std(x) * np.std(y))\n",
      "<ipython-input-9-912808cec4c6>:55: MatplotlibDeprecationWarning: savefig() got unexpected keyword argument \"figsize\" which is no longer supported as of 3.3 and will become an error in 3.6\n",
      "  fig.savefig(r'../data/2.3.4.4_crosscorr/Crr_1moLag.png',figsize=[12,12],dpi=300)\n"
     ]
    },
    {
     "data": {
      "image/png": "[encoded data removed]",
      "text/plain": [
       "<Figure size 432x288 with 9 Axes>"
      ]
     },
     "metadata": {
      "needs_background": "light"
     },
     "output_type": "display_data"
    }
   ],
   "source": [
    "'''Cross-correlation of virus probablity and bird probability of each bird Order'''\n",
    "crosscrr_mean = pd.DataFrame()\n",
    "crosscrr_min = pd.DataFrame()\n",
    "crosscrr_max = pd.DataFrame()\n",
    "\n",
    "virus_prob_rand = vmean.copy()\n",
    "virus_prob = vmean.copy()\n",
    "for row in range(0,1000):\n",
    "    virus_prob_rand.iloc[row,:] = np.random.random(12)\n",
    "\n",
    "\n",
    "bird_orders = pd.Series([pele,gru,pas,suli,cico,falc,chara,ans,acci],index=['Pelecaniformes','Gruiformes','Passeriformes',\n",
    "                           'Suliformes', 'Ciconiiformes', 'Falconiformes',\n",
    "                           'Charadriiformes', 'Anseriformes', 'Accipitriformes'])\n",
    "\n",
    "fig, axs = plt.subplots(3,3,sharey=True, tight_layout=True)\n",
    "\n",
    "r=0\n",
    "c=0\n",
    "for i in bird_orders.index:\n",
    "    x = bird_orders.loc[i]\n",
    "    crr_m = virus_prob\n",
    "    crr_m_rand = virus_prob_rand\n",
    "    for point in range(len(x)):\n",
    "        crr_m.iloc[point,:] = sm.tsa.stattools.ccf(virus_prob.iloc[point,:], x.iloc[point,:], adjusted=False)\n",
    "        crr_m_rand.iloc[point,:] = sm.tsa.stattools.ccf(virus_prob_rand.iloc[point,:], x.iloc[point,:], adjusted=False)\n",
    "    \n",
    "    crr_m.to_csv(r'../data/2.3.4.4_crosscorr/Monthly_crr_%s.csv'%i)\n",
    "    m = pd.read_csv(r'../data/2.3.4.4_crosscorr/Monthly_crr_%s.csv'%i)\n",
    "    crr_m_rand.to_csv(r'../data/2.3.4.4_crosscorr/Rand_crr_%s.csv'%i)\n",
    "    m_rand = pd.read_csv(r'../data/2.3.4.4_crosscorr/Rand_crr_%s.csv'%i)\n",
    "    \n",
    "    axs[r,c].hist([m.iloc[:,2],m_rand.iloc[:,2]],bins=100,alpha=0.5)\n",
    "    axs[r,c].axvline(m.iloc[:,2].mean(), color='blue', linestyle='dashed', linewidth=1)\n",
    "    axs[r,c].axvline(m_rand.iloc[:,2].mean(), color='red', linestyle='dashed', linewidth=1)\n",
    "\n",
    "    axs[r,c].set_title(r'%s'%i)\n",
    "    \n",
    "    if r<2:\n",
    "        r += 1\n",
    "    elif r==2 and c<2:\n",
    "        r = 0\n",
    "        c += 1\n",
    "    \n",
    "    #mmean = m.iloc[:,[1,2,3,4,5,6,7,8,9,10,11,12]].mean()\n",
    "    #mmin = m.iloc[:,[1,2,3,4,5,6,7,8,9,10,11,12]].min()\n",
    "    #mmax = m.iloc[:,[1,2,3,4,5,6,7,8,9,10,11,12]].max()\n",
    "    #crosscrr_mean = pd.concat([crosscrr_mean,mmean.rename(i)],axis=1)\n",
    "    #crosscrr_min = pd.concat([crosscrr_min,mmin.rename(i)],axis=1)\n",
    "    #crosscrr_max = pd.concat([crosscrr_max,mmax.rename(i)],axis=1)\n",
    "    #crosscrr_mean.to_csv(r'../data/2.3.4.4_crosscorr/crosscrr_mean.csv')\n",
    "    #crosscrr_min.to_csv(r'../data/2.3.4.4_crosscorr/crosscrr_min.csv')\n",
    "    #crosscrr_max.to_csv(r'../data/2.3.4.4_crosscorr/crosscrr_max.csv')\n",
    "    \n",
    "fig.savefig(r'../data/2.3.4.4_crosscorr/Crr_1moLag.png',figsize=[12,12],dpi=300)"
   ]
  },
  {
   "cell_type": "code",
   "execution_count": 6,
   "metadata": {},
   "outputs": [
    {
     "name": "stderr",
     "output_type": "stream",
     "text": [
      "/Library/Frameworks/Python.framework/Versions/3.9/lib/python3.9/site-packages/statsmodels/tsa/stattools.py:1104: RuntimeWarning: invalid value encountered in true_divide\n",
      "  return cvf / (np.std(x) * np.std(y))\n",
      "<ipython-input-6-c2ac0d9c6999>:55: MatplotlibDeprecationWarning: savefig() got unexpected keyword argument \"figsize\" which is no longer supported as of 3.3 and will become an error in 3.6\n",
      "  fig.savefig(r'../data/2.3.4.4_crosscorr/Crr_2moLag.png',figsize=[12,12],dpi=300)\n"
     ]
    },
    {
     "data": {
      "image/png": "[encoded data removed]",
      "text/plain": [
       "<Figure size 432x288 with 9 Axes>"
      ]
     },
     "metadata": {
      "needs_background": "light"
     },
     "output_type": "display_data"
    }
   ],
   "source": [
    "'''Cross-correlation of virus probablity and bird probability of each bird Order'''\n",
    "crosscrr_mean = pd.DataFrame()\n",
    "crosscrr_min = pd.DataFrame()\n",
    "crosscrr_max = pd.DataFrame()\n",
    "\n",
    "virus_prob_rand = vmean.copy()\n",
    "virus_prob = vmean.copy()\n",
    "for row in range(0,1000):\n",
    "    virus_prob_rand.iloc[row,:] = np.random.random(12)\n",
    "\n",
    "\n",
    "bird_orders = pd.Series([pele,gru,pas,suli,cico,falc,chara,ans,acci],index=['Pelecaniformes','Gruiformes','Passeriformes',\n",
    "                           'Suliformes', 'Ciconiiformes', 'Falconiformes',\n",
    "                           'Charadriiformes', 'Anseriformes', 'Accipitriformes'])\n",
    "\n",
    "fig, axs = plt.subplots(3,3,sharey=True, tight_layout=True)\n",
    "\n",
    "r=0\n",
    "c=0\n",
    "for i in bird_orders.index:\n",
    "    x = bird_orders.loc[i]\n",
    "    crr_m = virus_prob\n",
    "    crr_m_rand = virus_prob_rand\n",
    "    for point in range(len(x)):\n",
    "        crr_m.iloc[point,:] = sm.tsa.stattools.ccf(virus_prob.iloc[point,:], x.iloc[point,:], adjusted=False)\n",
    "        crr_m_rand.iloc[point,:] = sm.tsa.stattools.ccf(virus_prob_rand.iloc[point,:], x.iloc[point,:], adjusted=False)\n",
    "    \n",
    "    crr_m.to_csv(r'../data/2.3.4.4_crosscorr/Monthly_crr_%s.csv'%i)\n",
    "    m = pd.read_csv(r'../data/2.3.4.4_crosscorr/Monthly_crr_%s.csv'%i)\n",
    "    crr_m_rand.to_csv(r'../data/2.3.4.4_crosscorr/Rand_crr_%s.csv'%i)\n",
    "    m_rand = pd.read_csv(r'../data/2.3.4.4_crosscorr/Rand_crr_%s.csv'%i)\n",
    "    \n",
    "    axs[r,c].hist([m.iloc[:,3],m_rand.iloc[:,3]],bins=100,alpha=0.5)\n",
    "    axs[r,c].axvline(m.iloc[:,3].mean(), color='blue', linestyle='dashed', linewidth=1)\n",
    "    axs[r,c].axvline(m_rand.iloc[:,3].mean(), color='red', linestyle='dashed', linewidth=1)\n",
    "\n",
    "    axs[r,c].set_title(r'%s'%i)\n",
    "    \n",
    "    if r<2:\n",
    "        r += 1\n",
    "    elif r==2 and c<2:\n",
    "        r = 0\n",
    "        c += 1\n",
    "    \n",
    "    #mmean = m.iloc[:,[1,2,3,4,5,6,7,8,9,10,11,12]].mean()\n",
    "    #mmin = m.iloc[:,[1,2,3,4,5,6,7,8,9,10,11,12]].min()\n",
    "    #mmax = m.iloc[:,[1,2,3,4,5,6,7,8,9,10,11,12]].max()\n",
    "    #crosscrr_mean = pd.concat([crosscrr_mean,mmean.rename(i)],axis=1)\n",
    "    #crosscrr_min = pd.concat([crosscrr_min,mmin.rename(i)],axis=1)\n",
    "    #crosscrr_max = pd.concat([crosscrr_max,mmax.rename(i)],axis=1)\n",
    "    #crosscrr_mean.to_csv(r'../data/2.3.4.4_crosscorr/crosscrr_mean.csv')\n",
    "    #crosscrr_min.to_csv(r'../data/2.3.4.4_crosscorr/crosscrr_min.csv')\n",
    "    #crosscrr_max.to_csv(r'../data/2.3.4.4_crosscorr/crosscrr_max.csv')\n",
    "    \n",
    "fig.savefig(r'../data/2.3.4.4_crosscorr/Crr_2moLag.png',figsize=[12,12],dpi=300)"
   ]
  },
  {
   "cell_type": "code",
   "execution_count": null,
   "metadata": {},
   "outputs": [],
   "source": []
  }
 ],
 "metadata": {
  "kernelspec": {
   "display_name": "Python 3",
   "language": "python",
   "name": "python3"
  },
  "language_info": {
   "codemirror_mode": {
    "name": "ipython",
    "version": 3
   },
   "file_extension": ".py",
   "mimetype": "text/x-python",
   "name": "python",
   "nbconvert_exporter": "python",
   "pygments_lexer": "ipython3",
   "version": "3.9.0"
  }
 },
 "nbformat": 4,
 "nbformat_minor": 4
}
