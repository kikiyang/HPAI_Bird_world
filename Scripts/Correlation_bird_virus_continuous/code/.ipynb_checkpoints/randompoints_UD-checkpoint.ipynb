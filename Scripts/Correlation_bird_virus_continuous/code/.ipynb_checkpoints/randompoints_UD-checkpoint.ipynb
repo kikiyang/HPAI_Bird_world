{
 "cells": [
  {
   "cell_type": "markdown",
   "metadata": {},
   "source": [
    "###### As home range of H5 AIV in each month, we combined the virus diffusion in all values of HPD in each month. Corresponding utilization distribution of the virus was the virus diffusion in each value of HPD in every month. For each month slice across a year, we sampled 1000 points at random geographical coordinates within the home range of viruses. "
   ]
  },
  {
   "cell_type": "code",
   "execution_count": 1,
   "metadata": {},
   "outputs": [],
   "source": [
    "import json\n",
    "import pandas as pd\n",
    "import os\n",
    "import shutil\n",
    "import random\n",
    "import numpy as np\n",
    "#from geojson_utils import point_in_multipolygon\n",
    "from shapely import geometry as gt\n",
    "from shapely import ops\n",
    "from shapely.prepared import prep"
   ]
  },
  {
   "cell_type": "code",
   "execution_count": 2,
   "metadata": {},
   "outputs": [],
   "source": [
    "## load a land polygon to test the random points were in land\n",
    "land = r\"../data/world.json\"\n",
    "f1 = open(land)\n",
    "WORLD_LAND = prep(gt.shape(json.load(f1)['features'][0]['geometry']))\n",
    "f1.close()"
   ]
  },
  {
   "cell_type": "code",
   "execution_count": 2,
   "metadata": {},
   "outputs": [],
   "source": [
    "def json2df(file):\n",
    "    # convert the highest posterior density (HPD) of the inferred virus to dataframe\n",
    "    f = open(file)\n",
    "    test = json.load(f)\n",
    "    f.close()\n",
    "    df = pd.DataFrame(test['layers'][0]['areas'])\n",
    "    df.attributes = df['attributes'].apply(lambda x:float(x['HPD']))\n",
    "    df['corrdinates'] = df['polygon'].apply(lambda cord:\n",
    "                                                            [list(map(lambda x:\n",
    "                                                                      [x['xCoordinate'],x['yCoordinate']],cord['coordinates']\n",
    "                                                                     )\n",
    "                                                                 )\n",
    "                                                            ])\n",
    "    df.drop('polygon',axis = 1,inplace = True)\n",
    "    df['polygon']=df.corrdinates.apply(lambda x:gt.shape({\"type\":\"MultiPolygon\",\"coordinates\":[x]}))\n",
    "    groups = df.groupby(['startTime','attributes'])\n",
    "    out_df = pd.DataFrame(groups.apply(lambda x:ops.unary_union(list(x.polygon))),columns=['polygon'])\n",
    "    return out_df"
   ]
  },
  {
   "cell_type": "code",
   "execution_count": 3,
   "metadata": {},
   "outputs": [],
   "source": [
    "def get_random(convex_hull,num):\n",
    "    '''\n",
    "    convex_hull:  home range of the Mulitpolygon in one time(month)\n",
    "    out: points within conver_hull and land\n",
    "    '''\n",
    "    #print(union_polygon)\n",
    "    #num = 100\n",
    "    polygon_shp = convex_hull['convex_hull']\n",
    "    prep_shp = prep(polygon_shp)\n",
    "    stime = str(convex_hull.name)\n",
    "    minx, miny, maxx, maxy = polygon_shp.bounds\n",
    "    \n",
    "    tlist_of_points = []\n",
    "    counter = 0\n",
    "    while counter < random_num:\n",
    "        pnt = gt.Point(random.uniform(minx, maxx), random.uniform(miny, maxy))\n",
    "        if prep_shp.contains(pnt) and WORLD_LAND.contains(pnt):\n",
    "            tlist_of_points.append([stime,pnt,pnt.coords[:][0][1],pnt.coords[:][0][0],int(stime.split('/')[1])])\n",
    "            counter += 1 \n",
    "    out = pd.DataFrame(tlist_of_points,columns=['startTime','point','lat','lon','month'])\n",
    "    return out"
   ]
  },
  {
   "cell_type": "code",
   "execution_count": 4,
   "metadata": {},
   "outputs": [],
   "source": [
    "def inclusion_relation(point,polygons):\n",
    "    '''\n",
    "    # point - one random point in one time\n",
    "    # polygon - virus polygons, polygons.loc[point.startTime] get the polygon in this time\n",
    "    # out - the spatial relationship between point and these polygons ,and are randed by 0.1-0.95HPD\n",
    "    '''\n",
    "    out = list(map(lambda x:x.contains(point.point),polygons.loc[point.startTime]['polygon']))\n",
    "    return out"
   ]
  },
  {
   "cell_type": "code",
   "execution_count": 7,
   "metadata": {},
   "outputs": [],
   "source": [
    "def stream(virus_path,num,out_path):\n",
    "\n",
    "    df_v = json2df(virus_path)\n",
    "    df_v = df_v.reset_index(level='attributes')\n",
    "\n",
    "    # get the convex_hull of every timesilces\n",
    "    time_group = df_v.groupby('startTime')\n",
    "    time_hull = pd.DataFrame(time_group.apply(lambda x:ops.unary_union(list(x.polygon)).convex_hull),columns = ['convex_hull'])\n",
    "\n",
    "    #random_num = 1000\n",
    "    random_df = pd.concat(time_hull.apply(get_random,axis=1,**{'num':random_num}).to_list()).reset_index(drop=True)\n",
    "    \n",
    "    # The spatial relationship between random points and each HPD \n",
    "    spatial_relate = random_df.apply(inclusion_relation,axis=1,**{'polygons':df_v})\n",
    "    hpd_l = list(np.arange(10,100,5)/100)\n",
    "    spatial_relate = pd.DataFrame(list(map(lambda x:x, spatial_relate)),columns=hpd_l)\n",
    "    random_relate = pd.concat([random_df,spatial_relate],axis=1).set_index('startTime')\n",
    "    \n",
    "    random_relate.to_csv(out_path)"
   ]
  },
  {
   "cell_type": "code",
   "execution_count": 11,
   "metadata": {},
   "outputs": [],
   "source": [
    "virus_file1 = r'../data/HPD_10_95_2.3.2.1.json'\n",
    "outfile1 = r'../data/random_df_2.3.2.1.csv'\n",
    "random_num1 = 1000\n",
    "stream(virus_path=virus_file1,num=random_num1,out_path=outfile1)"
   ]
  },
  {
   "cell_type": "code",
   "execution_count": 13,
   "metadata": {},
   "outputs": [],
   "source": [
    "virus_file2 = r'../data/HPD_10_95_2.3.4.4.json'\n",
    "outfile2 = r'../data/random_df_2.3.4.4.csv'\n",
    "random_num2 = 1000\n",
    "stream(virus_path=virus_file2,num=random_num2,out_path=outfile2)"
   ]
  }
 ],
 "metadata": {
  "kernelspec": {
   "display_name": "Python 3",
   "language": "python",
   "name": "python3"
  },
  "language_info": {
   "codemirror_mode": {
    "name": "ipython",
    "version": 3
   },
   "file_extension": ".py",
   "mimetype": "text/x-python",
   "name": "python",
   "nbconvert_exporter": "python",
   "pygments_lexer": "ipython3",
   "version": "3.7.6"
  }
 },
 "nbformat": 4,
 "nbformat_minor": 4
}
