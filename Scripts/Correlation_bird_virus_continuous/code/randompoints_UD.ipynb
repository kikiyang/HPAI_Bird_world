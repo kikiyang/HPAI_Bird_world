{
 "cells": [
  {
   "cell_type": "markdown",
   "metadata": {
    "tags": []
   },
   "source": [
    "###### As home range of H5 AIV in each month, we combined the virus diffusion in all values of HPD in each month. Corresponding utilization distribution of the virus was the virus diffusion in each value of HPD in every month. For each month slice across a year, we sampled 1000 points at random geographical coordinates within the home range of viruses. "
   ]
  },
  {
   "cell_type": "code",
   "execution_count": 1,
   "metadata": {},
   "outputs": [],
   "source": [
    "import json\n",
    "import pandas as pd\n",
    "import os\n",
    "import shutil\n",
    "import random\n",
    "import numpy as np\n",
    "#from geojson_utils import point_in_multipolygon\n",
    "from shapely import geometry as gt\n",
    "from shapely import ops\n",
    "from shapely.prepared import prep"
   ]
  },
  {
   "cell_type": "code",
   "execution_count": 2,
   "metadata": {},
   "outputs": [],
   "source": [
    "## load a land polygon to test the random points were in land\n",
    "land = r\"../data/world.json\"\n",
    "f1 = open(land)\n",
    "WORLD_LAND = prep(gt.shape(json.load(f1)['features'][0]['geometry']))\n",
    "f1.close()"
   ]
  },
  {
   "cell_type": "code",
   "execution_count": 17,
   "metadata": {},
   "outputs": [],
   "source": [
    "def json2df(file):\n",
    "    # convert the highest posterior density (HPD) of the inferred virus to dataframe\n",
    "    f = open(file)\n",
    "    test = json.load(f)\n",
    "    f.close()\n",
    "    df = pd.DataFrame(test['layers'][0]['areas'])\n",
    "    df.attributes = df['attributes'].apply(lambda x:float(x['HPD']))\n",
    "    df['corrdinates'] = df['polygon'].apply(lambda cord:\n",
    "                                                            [list(map(lambda x:\n",
    "                                                                      [x['xCoordinate'],x['yCoordinate']],cord['coordinates']\n",
    "                                                                     )\n",
    "                                                                 )\n",
    "                                                            ])\n",
    "    df.drop('polygon',axis = 1,inplace = True)\n",
    "    df['polygon']=df.corrdinates.apply(lambda x:gt.shape({\"type\":\"MultiPolygon\",\"coordinates\":[x]}))\n",
    "    \n",
    "    groups = df.groupby(['startTime','attributes'])\n",
    "    \n",
    "    out_df = pd.DataFrame(groups.apply(lambda x:ops.unary_union(list(x.polygon))),columns=['polygon'])\n",
    "    out_df_full = pd.DataFrame(ops.unary_union(list(df.polygon)))\n",
    "    \n",
    "    return out_df_full"
   ]
  },
  {
   "cell_type": "code",
   "execution_count": 13,
   "metadata": {},
   "outputs": [],
   "source": [
    "def get_random(convex_hull,num):\n",
    "    '''\n",
    "    convex_hull:  home range of the Mulitpolygon in one time(month)\n",
    "    out: points within conver_hull and land\n",
    "    '''\n",
    "    #print(union_polygon)\n",
    "    #num = 100\n",
    "    polygon_shp = convex_hull['polygon']\n",
    "    prep_shp = prep(polygon_shp)\n",
    "    #stime = str(convex_hull.name)\n",
    "    minx, miny, maxx, maxy = polygon_shp.bounds\n",
    "    \n",
    "    tlist_of_points = []\n",
    "    counter = 0\n",
    "    while counter < num:\n",
    "        pnt = gt.Point(random.uniform(minx, maxx), random.uniform(miny, maxy))\n",
    "        if prep_shp.contains(pnt) and WORLD_LAND.contains(pnt):\n",
    "            tlist_of_points.append([pnt,pnt.coords[:][0][1],pnt.coords[:][0][0]])\n",
    "            counter += 1 \n",
    "    out = pd.DataFrame(tlist_of_points,columns=['point','lat','lon'])\n",
    "    ## qiqi\n",
    "    out.loc[:,'month']=1\n",
    "    out_months=out\n",
    "    for k in range(2,13):\n",
    "        out_tmp=out\n",
    "        out_tmp.loc[:,'month']=k\n",
    "        out_months=pd.concat([out_months,out_tmp])\n",
    "        \n",
    "    #out_final = pd.concat(out_months)\n",
    "    return out_months"
   ]
  },
  {
   "cell_type": "code",
   "execution_count": 14,
   "metadata": {},
   "outputs": [],
   "source": [
    "def inclusion_relation(point,polygons):\n",
    "    '''\n",
    "    # point - one random point in one time\n",
    "    # polygon - virus polygons, polygons.loc[point.startTime] get the polygon in this time\n",
    "    # out - the spatial relationship between point and these polygons ,and are randed by 0.1-0.95HPD\n",
    "    '''\n",
    "    out = list(map(lambda x:x.contains(point.point),polygons.loc[point.month]['polygon']))\n",
    "    return out"
   ]
  },
  {
   "cell_type": "code",
   "execution_count": 15,
   "metadata": {},
   "outputs": [],
   "source": [
    "def stream(virus_path,num,out_path):\n",
    "\n",
    "    df_v = json2df(virus_path)\n",
    "    #df_v = df_v.reset_index(level='attributes')\n",
    "    \n",
    "    #full = ops.unary_union(df_v[1,'polygon'],df_v[2,'polygon'])\n",
    "    \n",
    "    ## get the convex_hull of every timesilces\n",
    "    #time_group = df_v.groupby('month')\n",
    "    #time_hull = pd.DataFrame(time_group.apply(lambda x:ops.unary_union(list(x.polygon))),columns = ['convex_hull'])\n",
    "    #full = pd.concat(df_v)\n",
    "    df_v.to_csv('../data/df_v.csv')\n",
    "    #full_region = ops.unary_union(pd.concat(df_v['polygon']))\n",
    "    #full_region = pd.DataFrame(df_v.apply(lambda x:ops.unary_union(list(x.polygon))))\n",
    "    random_df = pd.concat(df_v.apply(get_random,axis=1,**{'num':num}).to_list()).reset_index(drop=True)\n",
    "    \n",
    "    #random_df = pd.concat(df_v.apply(get_random,axis=1,**{'num':num}).to_list()).reset_index(drop=True)\n",
    "    #random_df.to_csv('../data/random_points.csv')\n",
    "    # The spatial relationship between random points and each HPD \n",
    "    spatial_relate = random_df.apply(inclusion_relation,axis=1,**{'polygons':df_v})\n",
    "    hpd_l = list(np.arange(10,100,5)/100)\n",
    "    spatial_relate = pd.DataFrame(list(map(lambda x:x, spatial_relate)),columns=hpd_l)\n",
    "    random_relate = pd.concat([random_df,spatial_relate],axis=1).set_index('month')\n",
    "    \n",
    "    random_relate.to_csv(out_path)"
   ]
  },
  {
   "cell_type": "code",
   "execution_count": 18,
   "metadata": {},
   "outputs": [
    {
     "name": "stderr",
     "output_type": "stream",
     "text": [
      "/Users/qiqiy/anaconda3/envs/jupyterlab-debugger/lib/python3.10/site-packages/pandas/core/dtypes/cast.py:1981: ShapelyDeprecationWarning: __len__ for multi-part geometries is deprecated and will be removed in Shapely 2.0. Check the length of the `geoms` property instead to get the  number of parts of a multi-part geometry.\n",
      "  result[:] = values\n",
      "/Users/qiqiy/anaconda3/envs/jupyterlab-debugger/lib/python3.10/site-packages/pandas/core/frame.py:710: ShapelyDeprecationWarning: __len__ for multi-part geometries is deprecated and will be removed in Shapely 2.0. Check the length of the `geoms` property instead to get the  number of parts of a multi-part geometry.\n",
      "  data = list(data)\n",
      "/Users/qiqiy/anaconda3/envs/jupyterlab-debugger/lib/python3.10/site-packages/pandas/core/frame.py:710: ShapelyDeprecationWarning: Iteration over multi-part geometries is deprecated and will be removed in Shapely 2.0. Use the `geoms` property to access the constituent parts of a multi-part geometry.\n",
      "  data = list(data)\n"
     ]
    },
    {
     "ename": "KeyError",
     "evalue": "'polygon'",
     "output_type": "error",
     "traceback": [
      "\u001b[0;31m---------------------------------------------------------------------------\u001b[0m",
      "\u001b[0;31mKeyError\u001b[0m                                  Traceback (most recent call last)",
      "Input \u001b[0;32mIn [18]\u001b[0m, in \u001b[0;36m<cell line: 4>\u001b[0;34m()\u001b[0m\n\u001b[1;32m      2\u001b[0m outfile1 \u001b[38;5;241m=\u001b[39m \u001b[38;5;124mr\u001b[39m\u001b[38;5;124m'\u001b[39m\u001b[38;5;124m../data/random_df_2.3.2.1_noConvexHull.csv\u001b[39m\u001b[38;5;124m'\u001b[39m\n\u001b[1;32m      3\u001b[0m random_num1 \u001b[38;5;241m=\u001b[39m \u001b[38;5;241m5\u001b[39m\n\u001b[0;32m----> 4\u001b[0m \u001b[43mstream\u001b[49m\u001b[43m(\u001b[49m\u001b[43mvirus_path\u001b[49m\u001b[38;5;241;43m=\u001b[39;49m\u001b[43mvirus_file1\u001b[49m\u001b[43m,\u001b[49m\u001b[43mnum\u001b[49m\u001b[38;5;241;43m=\u001b[39;49m\u001b[43mrandom_num1\u001b[49m\u001b[43m,\u001b[49m\u001b[43mout_path\u001b[49m\u001b[38;5;241;43m=\u001b[39;49m\u001b[43moutfile1\u001b[49m\u001b[43m)\u001b[49m\n",
      "Input \u001b[0;32mIn [15]\u001b[0m, in \u001b[0;36mstream\u001b[0;34m(virus_path, num, out_path)\u001b[0m\n\u001b[1;32m     12\u001b[0m df_v\u001b[38;5;241m.\u001b[39mto_csv(\u001b[38;5;124m'\u001b[39m\u001b[38;5;124m../data/df_v.csv\u001b[39m\u001b[38;5;124m'\u001b[39m)\n\u001b[1;32m     13\u001b[0m \u001b[38;5;66;03m#full_region = ops.unary_union(pd.concat(df_v['polygon']))\u001b[39;00m\n\u001b[1;32m     14\u001b[0m \u001b[38;5;66;03m#full_region = pd.DataFrame(df_v.apply(lambda x:ops.unary_union(list(x.polygon))))\u001b[39;00m\n\u001b[0;32m---> 15\u001b[0m random_df \u001b[38;5;241m=\u001b[39m pd\u001b[38;5;241m.\u001b[39mconcat(\u001b[43mdf_v\u001b[49m\u001b[38;5;241;43m.\u001b[39;49m\u001b[43mapply\u001b[49m\u001b[43m(\u001b[49m\u001b[43mget_random\u001b[49m\u001b[43m,\u001b[49m\u001b[43maxis\u001b[49m\u001b[38;5;241;43m=\u001b[39;49m\u001b[38;5;241;43m1\u001b[39;49m\u001b[43m,\u001b[49m\u001b[38;5;241;43m*\u001b[39;49m\u001b[38;5;241;43m*\u001b[39;49m\u001b[43m{\u001b[49m\u001b[38;5;124;43m'\u001b[39;49m\u001b[38;5;124;43mnum\u001b[39;49m\u001b[38;5;124;43m'\u001b[39;49m\u001b[43m:\u001b[49m\u001b[43mnum\u001b[49m\u001b[43m}\u001b[49m\u001b[43m)\u001b[49m\u001b[38;5;241m.\u001b[39mto_list())\u001b[38;5;241m.\u001b[39mreset_index(drop\u001b[38;5;241m=\u001b[39m\u001b[38;5;28;01mTrue\u001b[39;00m)\n\u001b[1;32m     17\u001b[0m \u001b[38;5;66;03m#random_df = pd.concat(df_v.apply(get_random,axis=1,**{'num':num}).to_list()).reset_index(drop=True)\u001b[39;00m\n\u001b[1;32m     18\u001b[0m \u001b[38;5;66;03m#random_df.to_csv('../data/random_points.csv')\u001b[39;00m\n\u001b[1;32m     19\u001b[0m \u001b[38;5;66;03m# The spatial relationship between random points and each HPD \u001b[39;00m\n\u001b[1;32m     20\u001b[0m spatial_relate \u001b[38;5;241m=\u001b[39m random_df\u001b[38;5;241m.\u001b[39mapply(inclusion_relation,axis\u001b[38;5;241m=\u001b[39m\u001b[38;5;241m1\u001b[39m,\u001b[38;5;241m*\u001b[39m\u001b[38;5;241m*\u001b[39m{\u001b[38;5;124m'\u001b[39m\u001b[38;5;124mpolygons\u001b[39m\u001b[38;5;124m'\u001b[39m:df_v})\n",
      "File \u001b[0;32m~/anaconda3/envs/jupyterlab-debugger/lib/python3.10/site-packages/pandas/core/frame.py:8839\u001b[0m, in \u001b[0;36mDataFrame.apply\u001b[0;34m(self, func, axis, raw, result_type, args, **kwargs)\u001b[0m\n\u001b[1;32m   8828\u001b[0m \u001b[38;5;28;01mfrom\u001b[39;00m \u001b[38;5;21;01mpandas\u001b[39;00m\u001b[38;5;21;01m.\u001b[39;00m\u001b[38;5;21;01mcore\u001b[39;00m\u001b[38;5;21;01m.\u001b[39;00m\u001b[38;5;21;01mapply\u001b[39;00m \u001b[38;5;28;01mimport\u001b[39;00m frame_apply\n\u001b[1;32m   8830\u001b[0m op \u001b[38;5;241m=\u001b[39m frame_apply(\n\u001b[1;32m   8831\u001b[0m     \u001b[38;5;28mself\u001b[39m,\n\u001b[1;32m   8832\u001b[0m     func\u001b[38;5;241m=\u001b[39mfunc,\n\u001b[0;32m   (...)\u001b[0m\n\u001b[1;32m   8837\u001b[0m     kwargs\u001b[38;5;241m=\u001b[39mkwargs,\n\u001b[1;32m   8838\u001b[0m )\n\u001b[0;32m-> 8839\u001b[0m \u001b[38;5;28;01mreturn\u001b[39;00m \u001b[43mop\u001b[49m\u001b[38;5;241;43m.\u001b[39;49m\u001b[43mapply\u001b[49m\u001b[43m(\u001b[49m\u001b[43m)\u001b[49m\u001b[38;5;241m.\u001b[39m__finalize__(\u001b[38;5;28mself\u001b[39m, method\u001b[38;5;241m=\u001b[39m\u001b[38;5;124m\"\u001b[39m\u001b[38;5;124mapply\u001b[39m\u001b[38;5;124m\"\u001b[39m)\n",
      "File \u001b[0;32m~/anaconda3/envs/jupyterlab-debugger/lib/python3.10/site-packages/pandas/core/apply.py:727\u001b[0m, in \u001b[0;36mFrameApply.apply\u001b[0;34m(self)\u001b[0m\n\u001b[1;32m    724\u001b[0m \u001b[38;5;28;01melif\u001b[39;00m \u001b[38;5;28mself\u001b[39m\u001b[38;5;241m.\u001b[39mraw:\n\u001b[1;32m    725\u001b[0m     \u001b[38;5;28;01mreturn\u001b[39;00m \u001b[38;5;28mself\u001b[39m\u001b[38;5;241m.\u001b[39mapply_raw()\n\u001b[0;32m--> 727\u001b[0m \u001b[38;5;28;01mreturn\u001b[39;00m \u001b[38;5;28;43mself\u001b[39;49m\u001b[38;5;241;43m.\u001b[39;49m\u001b[43mapply_standard\u001b[49m\u001b[43m(\u001b[49m\u001b[43m)\u001b[49m\n",
      "File \u001b[0;32m~/anaconda3/envs/jupyterlab-debugger/lib/python3.10/site-packages/pandas/core/apply.py:851\u001b[0m, in \u001b[0;36mFrameApply.apply_standard\u001b[0;34m(self)\u001b[0m\n\u001b[1;32m    850\u001b[0m \u001b[38;5;28;01mdef\u001b[39;00m \u001b[38;5;21mapply_standard\u001b[39m(\u001b[38;5;28mself\u001b[39m):\n\u001b[0;32m--> 851\u001b[0m     results, res_index \u001b[38;5;241m=\u001b[39m \u001b[38;5;28;43mself\u001b[39;49m\u001b[38;5;241;43m.\u001b[39;49m\u001b[43mapply_series_generator\u001b[49m\u001b[43m(\u001b[49m\u001b[43m)\u001b[49m\n\u001b[1;32m    853\u001b[0m     \u001b[38;5;66;03m# wrap results\u001b[39;00m\n\u001b[1;32m    854\u001b[0m     \u001b[38;5;28;01mreturn\u001b[39;00m \u001b[38;5;28mself\u001b[39m\u001b[38;5;241m.\u001b[39mwrap_results(results, res_index)\n",
      "File \u001b[0;32m~/anaconda3/envs/jupyterlab-debugger/lib/python3.10/site-packages/pandas/core/apply.py:867\u001b[0m, in \u001b[0;36mFrameApply.apply_series_generator\u001b[0;34m(self)\u001b[0m\n\u001b[1;32m    864\u001b[0m \u001b[38;5;28;01mwith\u001b[39;00m option_context(\u001b[38;5;124m\"\u001b[39m\u001b[38;5;124mmode.chained_assignment\u001b[39m\u001b[38;5;124m\"\u001b[39m, \u001b[38;5;28;01mNone\u001b[39;00m):\n\u001b[1;32m    865\u001b[0m     \u001b[38;5;28;01mfor\u001b[39;00m i, v \u001b[38;5;129;01min\u001b[39;00m \u001b[38;5;28menumerate\u001b[39m(series_gen):\n\u001b[1;32m    866\u001b[0m         \u001b[38;5;66;03m# ignore SettingWithCopy here in case the user mutates\u001b[39;00m\n\u001b[0;32m--> 867\u001b[0m         results[i] \u001b[38;5;241m=\u001b[39m \u001b[38;5;28;43mself\u001b[39;49m\u001b[38;5;241;43m.\u001b[39;49m\u001b[43mf\u001b[49m\u001b[43m(\u001b[49m\u001b[43mv\u001b[49m\u001b[43m)\u001b[49m\n\u001b[1;32m    868\u001b[0m         \u001b[38;5;28;01mif\u001b[39;00m \u001b[38;5;28misinstance\u001b[39m(results[i], ABCSeries):\n\u001b[1;32m    869\u001b[0m             \u001b[38;5;66;03m# If we have a view on v, we need to make a copy because\u001b[39;00m\n\u001b[1;32m    870\u001b[0m             \u001b[38;5;66;03m#  series_generator will swap out the underlying data\u001b[39;00m\n\u001b[1;32m    871\u001b[0m             results[i] \u001b[38;5;241m=\u001b[39m results[i]\u001b[38;5;241m.\u001b[39mcopy(deep\u001b[38;5;241m=\u001b[39m\u001b[38;5;28;01mFalse\u001b[39;00m)\n",
      "File \u001b[0;32m~/anaconda3/envs/jupyterlab-debugger/lib/python3.10/site-packages/pandas/core/apply.py:138\u001b[0m, in \u001b[0;36mApply.__init__.<locals>.f\u001b[0;34m(x)\u001b[0m\n\u001b[1;32m    137\u001b[0m \u001b[38;5;28;01mdef\u001b[39;00m \u001b[38;5;21mf\u001b[39m(x):\n\u001b[0;32m--> 138\u001b[0m     \u001b[38;5;28;01mreturn\u001b[39;00m \u001b[43mfunc\u001b[49m\u001b[43m(\u001b[49m\u001b[43mx\u001b[49m\u001b[43m,\u001b[49m\u001b[43m \u001b[49m\u001b[38;5;241;43m*\u001b[39;49m\u001b[43margs\u001b[49m\u001b[43m,\u001b[49m\u001b[43m \u001b[49m\u001b[38;5;241;43m*\u001b[39;49m\u001b[38;5;241;43m*\u001b[39;49m\u001b[43mkwargs\u001b[49m\u001b[43m)\u001b[49m\n",
      "Input \u001b[0;32mIn [13]\u001b[0m, in \u001b[0;36mget_random\u001b[0;34m(convex_hull, num)\u001b[0m\n\u001b[1;32m      2\u001b[0m \u001b[38;5;124;03m'''\u001b[39;00m\n\u001b[1;32m      3\u001b[0m \u001b[38;5;124;03mconvex_hull:  home range of the Mulitpolygon in one time(month)\u001b[39;00m\n\u001b[1;32m      4\u001b[0m \u001b[38;5;124;03mout: points within conver_hull and land\u001b[39;00m\n\u001b[1;32m      5\u001b[0m \u001b[38;5;124;03m'''\u001b[39;00m\n\u001b[1;32m      6\u001b[0m \u001b[38;5;66;03m#print(union_polygon)\u001b[39;00m\n\u001b[1;32m      7\u001b[0m \u001b[38;5;66;03m#num = 100\u001b[39;00m\n\u001b[0;32m----> 8\u001b[0m polygon_shp \u001b[38;5;241m=\u001b[39m \u001b[43mconvex_hull\u001b[49m\u001b[43m[\u001b[49m\u001b[38;5;124;43m'\u001b[39;49m\u001b[38;5;124;43mpolygon\u001b[39;49m\u001b[38;5;124;43m'\u001b[39;49m\u001b[43m]\u001b[49m\n\u001b[1;32m      9\u001b[0m prep_shp \u001b[38;5;241m=\u001b[39m prep(polygon_shp)\n\u001b[1;32m     10\u001b[0m \u001b[38;5;66;03m#stime = str(convex_hull.name)\u001b[39;00m\n",
      "File \u001b[0;32m~/anaconda3/envs/jupyterlab-debugger/lib/python3.10/site-packages/pandas/core/series.py:958\u001b[0m, in \u001b[0;36mSeries.__getitem__\u001b[0;34m(self, key)\u001b[0m\n\u001b[1;32m    955\u001b[0m     \u001b[38;5;28;01mreturn\u001b[39;00m \u001b[38;5;28mself\u001b[39m\u001b[38;5;241m.\u001b[39m_values[key]\n\u001b[1;32m    957\u001b[0m \u001b[38;5;28;01melif\u001b[39;00m key_is_scalar:\n\u001b[0;32m--> 958\u001b[0m     \u001b[38;5;28;01mreturn\u001b[39;00m \u001b[38;5;28;43mself\u001b[39;49m\u001b[38;5;241;43m.\u001b[39;49m\u001b[43m_get_value\u001b[49m\u001b[43m(\u001b[49m\u001b[43mkey\u001b[49m\u001b[43m)\u001b[49m\n\u001b[1;32m    960\u001b[0m \u001b[38;5;28;01mif\u001b[39;00m is_hashable(key):\n\u001b[1;32m    961\u001b[0m     \u001b[38;5;66;03m# Otherwise index.get_value will raise InvalidIndexError\u001b[39;00m\n\u001b[1;32m    962\u001b[0m     \u001b[38;5;28;01mtry\u001b[39;00m:\n\u001b[1;32m    963\u001b[0m         \u001b[38;5;66;03m# For labels that don't resolve as scalars like tuples and frozensets\u001b[39;00m\n",
      "File \u001b[0;32m~/anaconda3/envs/jupyterlab-debugger/lib/python3.10/site-packages/pandas/core/series.py:1069\u001b[0m, in \u001b[0;36mSeries._get_value\u001b[0;34m(self, label, takeable)\u001b[0m\n\u001b[1;32m   1066\u001b[0m     \u001b[38;5;28;01mreturn\u001b[39;00m \u001b[38;5;28mself\u001b[39m\u001b[38;5;241m.\u001b[39m_values[label]\n\u001b[1;32m   1068\u001b[0m \u001b[38;5;66;03m# Similar to Index.get_value, but we do not fall back to positional\u001b[39;00m\n\u001b[0;32m-> 1069\u001b[0m loc \u001b[38;5;241m=\u001b[39m \u001b[38;5;28;43mself\u001b[39;49m\u001b[38;5;241;43m.\u001b[39;49m\u001b[43mindex\u001b[49m\u001b[38;5;241;43m.\u001b[39;49m\u001b[43mget_loc\u001b[49m\u001b[43m(\u001b[49m\u001b[43mlabel\u001b[49m\u001b[43m)\u001b[49m\n\u001b[1;32m   1070\u001b[0m \u001b[38;5;28;01mreturn\u001b[39;00m \u001b[38;5;28mself\u001b[39m\u001b[38;5;241m.\u001b[39mindex\u001b[38;5;241m.\u001b[39m_get_values_for_loc(\u001b[38;5;28mself\u001b[39m, loc, label)\n",
      "File \u001b[0;32m~/anaconda3/envs/jupyterlab-debugger/lib/python3.10/site-packages/pandas/core/indexes/range.py:389\u001b[0m, in \u001b[0;36mRangeIndex.get_loc\u001b[0;34m(self, key, method, tolerance)\u001b[0m\n\u001b[1;32m    387\u001b[0m             \u001b[38;5;28;01mraise\u001b[39;00m \u001b[38;5;167;01mKeyError\u001b[39;00m(key) \u001b[38;5;28;01mfrom\u001b[39;00m \u001b[38;5;21;01merr\u001b[39;00m\n\u001b[1;32m    388\u001b[0m     \u001b[38;5;28mself\u001b[39m\u001b[38;5;241m.\u001b[39m_check_indexing_error(key)\n\u001b[0;32m--> 389\u001b[0m     \u001b[38;5;28;01mraise\u001b[39;00m \u001b[38;5;167;01mKeyError\u001b[39;00m(key)\n\u001b[1;32m    390\u001b[0m \u001b[38;5;28;01mreturn\u001b[39;00m \u001b[38;5;28msuper\u001b[39m()\u001b[38;5;241m.\u001b[39mget_loc(key, method\u001b[38;5;241m=\u001b[39mmethod, tolerance\u001b[38;5;241m=\u001b[39mtolerance)\n",
      "\u001b[0;31mKeyError\u001b[0m: 'polygon'"
     ]
    }
   ],
   "source": [
    "virus_file1 = r'../data/HPD_10_95_2.3.2.1.json'\n",
    "outfile1 = r'../data/random_df_2.3.2.1_noConvexHull.csv'\n",
    "random_num1 = 5\n",
    "stream(virus_path=virus_file1,num=random_num1,out_path=outfile1)"
   ]
  },
  {
   "cell_type": "code",
   "execution_count": null,
   "metadata": {},
   "outputs": [],
   "source": [
    "virus_file2 = r'../data/HPD_10_95_2.3.4.4.json'\n",
    "outfile2 = r'../data/random_df_2.3.4.4_noConvexHull.csv'\n",
    "random_num2 = 1000\n",
    "stream(virus_path=virus_file2,num=random_num2,out_path=outfile2)"
   ]
  },
  {
   "cell_type": "code",
   "execution_count": null,
   "metadata": {},
   "outputs": [],
   "source": []
  },
  {
   "cell_type": "code",
   "execution_count": null,
   "metadata": {},
   "outputs": [],
   "source": []
  }
 ],
 "metadata": {
  "kernelspec": {
   "display_name": "Python 3",
   "language": "python",
   "name": "python3"
  },
  "language_info": {
   "codemirror_mode": {
    "name": "ipython",
    "version": 3
   },
   "file_extension": ".py",
   "mimetype": "text/x-python",
   "name": "python",
   "nbconvert_exporter": "python",
   "pygments_lexer": "ipython3",
   "version": "3.9.0"
  }
 },
 "nbformat": 4,
 "nbformat_minor": 4
}
