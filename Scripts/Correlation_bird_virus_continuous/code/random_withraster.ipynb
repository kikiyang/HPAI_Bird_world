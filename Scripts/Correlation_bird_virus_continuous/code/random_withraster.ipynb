{
 "cells": [
  {
   "cell_type": "code",
   "execution_count": 1,
   "metadata": {},
   "outputs": [],
   "source": [
    "import os\n",
    "import string\n",
    "\n",
    "import numpy as np\n",
    "import pandas as pd\n",
    "from osgeo import gdal\n",
    "\n",
    "from time import time\n",
    "from math import floor\n",
    "from pandas import Timestamp\n",
    "from dateutil.parser import parse"
   ]
  },
  {
   "cell_type": "code",
   "execution_count": 2,
   "metadata": {},
   "outputs": [],
   "source": [
    "orders = ['Pelecaniformes', 'Gruiformes', 'Passeriformes', 'Suliformes', 'Ciconiiformes',\n",
    " 'Falconiformes', 'Charadriiformes', 'Anseriformes', 'Accipitriformes', 'Procellariiformes']"
   ]
  },
  {
   "cell_type": "code",
   "execution_count": 4,
   "metadata": {},
   "outputs": [
    {
     "data": {
      "text/plain": [
       "(119000, 22)"
      ]
     },
     "execution_count": 4,
     "metadata": {},
     "output_type": "execute_result"
    }
   ],
   "source": [
    "virus_family = '2.3.4.4'\n",
    "\n",
    "random_df = pd.read_csv(r'../data/random_df_%s.csv'%virus_family)\n",
    "\n",
    "random_df.set_index('startTime',inplace = True)\n",
    "random_df.shape"
   ]
  },
  {
   "cell_type": "code",
   "execution_count": 7,
   "metadata": {},
   "outputs": [],
   "source": [
    "tif_path = r'../data/map_raster/'\n",
    "i = 'Accipitriformes1.tif'\n",
    "env_data = gdal.Open(tif_path+i) #tiff data\n",
    "inf = env_data.GetGeoTransform() #tiff geo coordinates\n",
    "raster_X = env_data.RasterXSize\n",
    "raster_Y = env_data.RasterYSize\n",
    "del env_data"
   ]
  },
  {
   "cell_type": "code",
   "execution_count": 8,
   "metadata": {},
   "outputs": [
    {
     "name": "stdout",
     "output_type": "stream",
     "text": [
      "0.18909120559692383\n"
     ]
    }
   ],
   "source": [
    "## get index\n",
    "t1 = time()\n",
    "   \n",
    "random_df['lat']=pd.to_numeric(random_df['lat'])\n",
    "random_df['lon']=pd.to_numeric(random_df['lon'])\n",
    "          \n",
    "random_df['lon_indx'] = random_df.lon.apply(lambda x:round((x-inf[0])/inf[1]))\n",
    "random_df['lat_indx'] = random_df.lat.apply(lambda x:round((x-inf[3])/inf[5]))\n",
    "             \n",
    "random_df['lon_indx'] = random_df.lon_indx.apply(lambda x: raster_X-1  if x>=raster_X else x)\n",
    "random_df['lat_indx'] = random_df.lat_indx.apply(lambda x: raster_Y-1  if x>=raster_Y else x)\n",
    "\n",
    "print(time()-t1)"
   ]
  },
  {
   "cell_type": "code",
   "execution_count": 9,
   "metadata": {},
   "outputs": [
    {
     "data": {
      "text/html": [
       "<div>\n",
       "<style scoped>\n",
       "    .dataframe tbody tr th:only-of-type {\n",
       "        vertical-align: middle;\n",
       "    }\n",
       "\n",
       "    .dataframe tbody tr th {\n",
       "        vertical-align: top;\n",
       "    }\n",
       "\n",
       "    .dataframe thead th {\n",
       "        text-align: right;\n",
       "    }\n",
       "</style>\n",
       "<table border=\"1\" class=\"dataframe\">\n",
       "  <thead>\n",
       "    <tr style=\"text-align: right;\">\n",
       "      <th></th>\n",
       "      <th>point</th>\n",
       "      <th>lat</th>\n",
       "      <th>lon</th>\n",
       "      <th>month</th>\n",
       "      <th>0.1</th>\n",
       "      <th>0.15</th>\n",
       "      <th>0.2</th>\n",
       "      <th>0.25</th>\n",
       "      <th>0.3</th>\n",
       "      <th>0.35</th>\n",
       "      <th>...</th>\n",
       "      <th>Pelecaniformes</th>\n",
       "      <th>Gruiformes</th>\n",
       "      <th>Passeriformes</th>\n",
       "      <th>Suliformes</th>\n",
       "      <th>Ciconiiformes</th>\n",
       "      <th>Falconiformes</th>\n",
       "      <th>Charadriiformes</th>\n",
       "      <th>Anseriformes</th>\n",
       "      <th>Accipitriformes</th>\n",
       "      <th>Procellariiformes</th>\n",
       "    </tr>\n",
       "  </thead>\n",
       "  <tbody>\n",
       "  </tbody>\n",
       "</table>\n",
       "<p>0 rows × 34 columns</p>\n",
       "</div>"
      ],
      "text/plain": [
       "Empty DataFrame\n",
       "Columns: [point, lat, lon, month, 0.1, 0.15, 0.2, 0.25, 0.3, 0.35, 0.4, 0.45, 0.5, 0.55, 0.6, 0.65, 0.7, 0.75, 0.8, 0.85, 0.9, 0.95, lon_indx, lat_indx, Pelecaniformes, Gruiformes, Passeriformes, Suliformes, Ciconiiformes, Falconiformes, Charadriiformes, Anseriformes, Accipitriformes, Procellariiformes]\n",
       "Index: []\n",
       "\n",
       "[0 rows x 34 columns]"
      ]
     },
     "execution_count": 9,
     "metadata": {},
     "output_type": "execute_result"
    }
   ],
   "source": [
    "raster_df = pd.DataFrame(columns=random_df.columns.to_list()+orders)\n",
    "raster_df"
   ]
  },
  {
   "cell_type": "code",
   "execution_count": 10,
   "metadata": {},
   "outputs": [
    {
     "name": "stdout",
     "output_type": "stream",
     "text": [
      "36.393147706985474\n",
      "36.5091757774353\n",
      "35.795772075653076\n",
      "34.71100902557373\n",
      "36.09420990943909\n",
      "36.748455286026\n",
      "32.843831062316895\n",
      "32.44264507293701\n",
      "32.43250107765198\n",
      "32.51432013511658\n",
      "31.179080963134766\n",
      "31.371658086776733\n"
     ]
    }
   ],
   "source": [
    "t1 = time()\n",
    "for i in range(1,13):\n",
    "    temp_df = random_df[random_df.month==i]\n",
    "    for order in orders:\n",
    "        env_data = gdal.Open(tif_path+order+str(i)+'.tif') #tiff data\n",
    "        band = env_data.GetRasterBand(1).ReadAsArray()\n",
    "        temp_df = temp_df.copy()\n",
    "        temp_df[order] = temp_df.apply(lambda x:band[x['lat_indx']][x['lon_indx']]/1000,axis=1)\n",
    "    raster_df = pd.concat([raster_df,temp_df],axis=0)\n",
    "    print(time()-t1)\n",
    "    t1 = time()"
   ]
  },
  {
   "cell_type": "code",
   "execution_count": 11,
   "metadata": {},
   "outputs": [],
   "source": [
    "raster_df.to_csv(r'../data/dataset_%s.csv'%virus_family)"
   ]
  },
  {
   "cell_type": "code",
   "execution_count": 12,
   "metadata": {},
   "outputs": [
    {
     "data": {
      "text/plain": [
       "(136000, 22)"
      ]
     },
     "execution_count": 12,
     "metadata": {},
     "output_type": "execute_result"
    }
   ],
   "source": [
    "## 2.3.2.1\n",
    "\n",
    "virus_family = '2.3.2.1'\n",
    "\n",
    "random_df21 = pd.read_csv(r'../data/random_df_%s.csv'%virus_family)\n",
    "random_df21.set_index('startTime',inplace = True)\n",
    "random_df21.shape"
   ]
  },
  {
   "cell_type": "code",
   "execution_count": 13,
   "metadata": {},
   "outputs": [],
   "source": [
    "tif_path = r'../data/map_raster/'\n",
    "i = 'Accipitriformes1.tif'\n",
    "env_data = gdal.Open(tif_path+i) #tiff data\n",
    "inf = env_data.GetGeoTransform() #tiff geo coordinates\n",
    "raster_X = env_data.RasterXSize\n",
    "raster_Y = env_data.RasterYSize\n",
    "del env_data"
   ]
  },
  {
   "cell_type": "code",
   "execution_count": 14,
   "metadata": {},
   "outputs": [
    {
     "name": "stdout",
     "output_type": "stream",
     "text": [
      "0.20472502708435059\n"
     ]
    }
   ],
   "source": [
    "## get index\n",
    "t1 = time()\n",
    "   \n",
    "random_df21['lat']=pd.to_numeric(random_df21['lat'])\n",
    "random_df21['lon']=pd.to_numeric(random_df21['lon'])\n",
    "          \n",
    "random_df21['lon_indx'] = random_df21.lon.apply(lambda x:round((x-inf[0])/inf[1]))\n",
    "random_df21['lat_indx'] = random_df21.lat.apply(lambda x:round((x-inf[3])/inf[5]))\n",
    "             \n",
    "random_df21['lon_indx'] = random_df21.lon_indx.apply(lambda x: raster_X-1  if x>=raster_X else x)\n",
    "random_df21['lat_indx'] = random_df21.lat_indx.apply(lambda x: raster_Y-1  if x>=raster_Y else x)\n",
    "\n",
    "print(time()-t1)"
   ]
  },
  {
   "cell_type": "code",
   "execution_count": 15,
   "metadata": {},
   "outputs": [
    {
     "data": {
      "text/html": [
       "<div>\n",
       "<style scoped>\n",
       "    .dataframe tbody tr th:only-of-type {\n",
       "        vertical-align: middle;\n",
       "    }\n",
       "\n",
       "    .dataframe tbody tr th {\n",
       "        vertical-align: top;\n",
       "    }\n",
       "\n",
       "    .dataframe thead th {\n",
       "        text-align: right;\n",
       "    }\n",
       "</style>\n",
       "<table border=\"1\" class=\"dataframe\">\n",
       "  <thead>\n",
       "    <tr style=\"text-align: right;\">\n",
       "      <th></th>\n",
       "      <th>point</th>\n",
       "      <th>lat</th>\n",
       "      <th>lon</th>\n",
       "      <th>month</th>\n",
       "      <th>0.1</th>\n",
       "      <th>0.15</th>\n",
       "      <th>0.2</th>\n",
       "      <th>0.25</th>\n",
       "      <th>0.3</th>\n",
       "      <th>0.35</th>\n",
       "      <th>...</th>\n",
       "      <th>Pelecaniformes</th>\n",
       "      <th>Gruiformes</th>\n",
       "      <th>Passeriformes</th>\n",
       "      <th>Suliformes</th>\n",
       "      <th>Ciconiiformes</th>\n",
       "      <th>Falconiformes</th>\n",
       "      <th>Charadriiformes</th>\n",
       "      <th>Anseriformes</th>\n",
       "      <th>Accipitriformes</th>\n",
       "      <th>Procellariiformes</th>\n",
       "    </tr>\n",
       "  </thead>\n",
       "  <tbody>\n",
       "  </tbody>\n",
       "</table>\n",
       "<p>0 rows × 34 columns</p>\n",
       "</div>"
      ],
      "text/plain": [
       "Empty DataFrame\n",
       "Columns: [point, lat, lon, month, 0.1, 0.15, 0.2, 0.25, 0.3, 0.35, 0.4, 0.45, 0.5, 0.55, 0.6, 0.65, 0.7, 0.75, 0.8, 0.85, 0.9, 0.95, lon_indx, lat_indx, Pelecaniformes, Gruiformes, Passeriformes, Suliformes, Ciconiiformes, Falconiformes, Charadriiformes, Anseriformes, Accipitriformes, Procellariiformes]\n",
       "Index: []\n",
       "\n",
       "[0 rows x 34 columns]"
      ]
     },
     "execution_count": 15,
     "metadata": {},
     "output_type": "execute_result"
    }
   ],
   "source": [
    "raster_df = pd.DataFrame(columns=random_df21.columns.to_list()+orders)\n",
    "raster_df"
   ]
  },
  {
   "cell_type": "code",
   "execution_count": 16,
   "metadata": {},
   "outputs": [
    {
     "name": "stdout",
     "output_type": "stream",
     "text": [
      "34.81056213378906\n",
      "31.374447107315063\n",
      "31.307659149169922\n",
      "34.19664287567139\n",
      "33.289987087249756\n",
      "34.59426403045654\n",
      "33.63120484352112\n",
      "36.84689211845398\n",
      "35.353686809539795\n",
      "35.19208908081055\n",
      "35.103365659713745\n",
      "34.983572244644165\n"
     ]
    }
   ],
   "source": [
    "t1 = time()\n",
    "for i in range(1,13):\n",
    "    temp_df = random_df21[random_df21.month==i]\n",
    "    for order in orders:\n",
    "        env_data = gdal.Open(tif_path+order+str(i)+'.tif') #tiff data\n",
    "        band = env_data.GetRasterBand(1).ReadAsArray()\n",
    "        temp_df = temp_df.copy()\n",
    "        temp_df[order] = temp_df.apply(lambda x:band[x['lat_indx']][x['lon_indx']]/1000,axis=1)\n",
    "    raster_df = pd.concat([raster_df,temp_df],axis=0)\n",
    "    print(time()-t1)\n",
    "    t1 = time()"
   ]
  },
  {
   "cell_type": "code",
   "execution_count": 17,
   "metadata": {},
   "outputs": [],
   "source": [
    "raster_df.to_csv(r'../data/dataset_%s.csv'%virus_family)"
   ]
  }
 ],
 "metadata": {
  "kernelspec": {
   "display_name": "Python 3",
   "language": "python",
   "name": "python3"
  },
  "language_info": {
   "codemirror_mode": {
    "name": "ipython",
    "version": 3
   },
   "file_extension": ".py",
   "mimetype": "text/x-python",
   "name": "python",
   "nbconvert_exporter": "python",
   "pygments_lexer": "ipython3",
   "version": "3.9.0"
  }
 },
 "nbformat": 4,
 "nbformat_minor": 4
}
