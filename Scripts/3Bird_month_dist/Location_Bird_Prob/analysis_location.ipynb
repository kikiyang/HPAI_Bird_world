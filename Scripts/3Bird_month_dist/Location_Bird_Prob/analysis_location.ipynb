{
 "cells": [
  {
   "cell_type": "code",
   "execution_count": 7,
   "metadata": {},
   "outputs": [],
   "source": [
    "import os\n",
    "import string\n",
    "import csv\n",
    "import re\n",
    "import numpy as np\n",
    "import pandas as pd\n",
    "from osgeo import gdal\n",
    "\n",
    "from time import time\n",
    "from math import floor\n",
    "from pandas import Timestamp\n",
    "from dateutil.parser import parse#"
   ]
  },
  {
   "cell_type": "code",
   "execution_count": 8,
   "metadata": {},
   "outputs": [],
   "source": [
    "orders = ['Pelecaniformes', 'Gruiformes', 'Passeriformes', 'Suliformes', 'Ciconiiformes',\n",
    "          'Falconiformes', 'Charadriiformes', 'Anseriformes', 'Accipitriformes', 'Procellariiformes']"
   ]
  },
  {
   "cell_type": "code",
   "execution_count": 9,
   "metadata": {},
   "outputs": [],
   "source": [
    "def add_month(x):\n",
    "    y = []\n",
    "    for i in range(1,13):\n",
    "        y.append(x+str(i))\n",
    "    return y\n",
    "\n",
    "add_columns = list(np.array(list(map(add_month, orders))).reshape([1,-1])[0])"
   ]
  },
  {
   "cell_type": "code",
   "execution_count": 10,
   "metadata": {},
   "outputs": [],
   "source": [
    "def main(strain):\n",
    "    ## convert the coordinates of several location to .csv\n",
    "    csvFile = open(\"../data/%sf_location.csv\"%strain,'w',newline='',encoding='utf-8')\n",
    "    writer = csv.writer(csvFile)\n",
    "    csvRow = []\n",
    "\n",
    "    f = open(\"../data/%sf_location.txt\"%strain,'r',encoding='GB2312')\n",
    "    for line in f:\n",
    "        csvRow = line.split()\n",
    "        writer.writerow(csvRow)\n",
    "\n",
    "    f.close()\n",
    "    csvFile.close()\n",
    "\n",
    "    random_df = pd.read_csv(r'../data/%sf_location.csv'%strain)\n",
    "    random_df['lon']=random_df['long']\n",
    "    random_df.drop(['long'],inplace=True,axis=1)\n",
    "\n",
    "    ## get index of locations in bird map\n",
    "    tif_path = r'../data/map_raster/'\n",
    "    i = 'Accipitriformes1.tif'\n",
    "    env_data = gdal.Open(tif_path+i)#tiff data\n",
    "    inf = env_data.GetGeoTransform()#tif geographical coordinate information\n",
    "    raster_X = env_data.RasterXSize\n",
    "    raster_Y = env_data.RasterYSize\n",
    "    del env_data\n",
    "\n",
    "    random_df['lat']=pd.to_numeric(random_df['lat'])\n",
    "    random_df['lon']=pd.to_numeric(random_df['lon'])\n",
    "\n",
    "    random_df['lon_indx'] = random_df.lon.apply(lambda x:round((x-inf[0])/inf[1]))\n",
    "    random_df['lat_indx'] = random_df.lat.apply(lambda x:round((x-inf[3])/inf[5]))\n",
    "\n",
    "    random_df['lon_indx'] = random_df.lon_indx.apply(lambda x: raster_X-1  if x>=raster_X else x)\n",
    "    random_df['lat_indx'] = random_df.lat_indx.apply(lambda x: raster_Y-1  if x>=raster_Y else x)\n",
    "\n",
    "    raster_df = random_df.copy()\n",
    "\n",
    "    ## get distribution likelihood of locations according to index\n",
    "    for file in add_columns:\n",
    "        filename = os.path.splitext(file)[0]\n",
    "        env_data = gdal.Open(os.path.join(tif_path,'%s.tif'%file))#tiff data\n",
    "        band = env_data.GetRasterBand(1).ReadAsArray()\n",
    "        raster_df = raster_df.copy()\n",
    "        raster_df[filename] = raster_df.apply(lambda x:band[x['lat_indx']][x['lon_indx']]/1000,axis=1)\n",
    "\n",
    "    raster_df.to_csv(r'../data/%s_bird.csv'%strain,index=False)"
   ]
  },
  {
   "cell_type": "code",
   "execution_count": 11,
   "metadata": {},
   "outputs": [],
   "source": [
    "main('2.3.4.4')\n",
    "main('2.3.2.1')"
   ]
  },
  {
   "cell_type": "code",
   "execution_count": null,
   "metadata": {},
   "outputs": [],
   "source": []
  }
 ],
 "metadata": {
  "kernelspec": {
   "display_name": "Python 3",
   "language": "python",
   "name": "python3"
  },
  "language_info": {
   "codemirror_mode": {
    "name": "ipython",
    "version": 3
   },
   "file_extension": ".py",
   "mimetype": "text/x-python",
   "name": "python",
   "nbconvert_exporter": "python",
   "pygments_lexer": "ipython3",
   "version": "3.9.0"
  }
 },
 "nbformat": 4,
 "nbformat_minor": 4
}
