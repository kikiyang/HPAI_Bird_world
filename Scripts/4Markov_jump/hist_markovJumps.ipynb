{
 "cells": [
  {
   "cell_type": "code",
   "execution_count": 1,
   "metadata": {},
   "outputs": [],
   "source": [
    "import pandas as pd\n",
    "import numpy as np\n",
    "import matplotlib.pyplot as plt\n",
    "import seaborn as sns"
   ]
  },
  {
   "cell_type": "code",
   "execution_count": 3,
   "metadata": {},
   "outputs": [],
   "source": [
    "clade21 = pd.read_csv('/Users/qiqiy/Documents/P2_WAI/Dataset/Virus lineage movements/2.3.2.1fAreaDTA_MJs_bi.txt')\n",
    "clade21['year'] = np.floor(clade21['date'])\n",
    "clade21['dateinyear'] = clade21['date'] - clade21['year']\n",
    "clade21['od'] = clade21['origin'] + '-' + clade21['destination']\n",
    "clade21['days'] = clade21['dateinyear']*365\n",
    "\n",
    "conditions = [\n",
    "    (clade21['days'] < 32),\n",
    "    (clade21['days'] >= 32) & (clade21['days'] < 60),\n",
    "    (clade21['days'] >= 60) & (clade21['days'] < 91),\n",
    "    (clade21['days'] >= 91) & (clade21['days'] < 121),\n",
    "    (clade21['days'] >= 121) & (clade21['days'] < 152),\n",
    "    (clade21['days'] >= 152) & (clade21['days'] < 182),\n",
    "    (clade21['days'] >= 182) & (clade21['days'] < 213),\n",
    "    (clade21['days'] >= 213) & (clade21['days'] < 244),\n",
    "    (clade21['days'] >= 244) & (clade21['days'] < 274),\n",
    "    (clade21['days'] >= 274) & (clade21['days'] < 305),\n",
    "    (clade21['days'] >= 305) & (clade21['days'] < 335),\n",
    "    (clade21['days'] >= 335) & (clade21['days'] < 366),\n",
    "]\n",
    "\n",
    "months = ['Jan','Feb','Mar','Apr','May','Jun','Jul','Aug','Sep','Oct','Nov','Dec']\n",
    "clade21['month'] = np.select(conditions, months)\n",
    "clade21_bf3 = clade21.loc[clade21['od'].isin(['CA-Mongolia','JapanKorea-Mongolia','JapanKorea-Russia','Mongolia-Africa','Mongolia-CA','Mongolia-Europe','Mongolia-JapanKorea','Mongolia-NChina','Mongolia-Qinghai','Mongolia-Russia','Mongolia-WA','NChina-Qinghai','NChina-SChina','Qinghai-Russia','SChina-CA','SChina-JapanKorea','SChina-SEA','SChina-WA','SEA-Europe','WA-Africa','WA-CA','WA-Europe'])]"
   ]
  },
  {
   "cell_type": "code",
   "execution_count": 18,
   "metadata": {},
   "outputs": [],
   "source": [
    "# every year-month\n",
    "od_migtimes = clade21.groupby(['od','year','month'])['Unnamed: 0'].count().reset_index()\n",
    "od_migtimes['month'] = pd.Categorical(od_migtimes['month'],months)\n",
    "od_migtimes = od_migtimes.sort_values('year').sort_values(['od','year','month']).reset_index()\n",
    "\n",
    "od_migtimes_bf3 = clade21_bf3.groupby(['od','year','month'])['Unnamed: 0'].count().reset_index()\n",
    "od_migtimes_bf3['month'] = pd.Categorical(od_migtimes_bf3['month'],months)\n",
    "od_migtimes_bf3 = od_migtimes_bf3.sort_values(\"year\").sort_values(['od','year','month']).reset_index()\n",
    "od_migtimes_bf3 = od_migtimes_bf3.rename(columns={'Unnamed: 0': 'counts'})\n",
    "od_migtimes_bf3.to_csv('virus_od_migtimes_bf3_2.3.2.1.csv')"
   ]
  },
  {
   "cell_type": "code",
   "execution_count": null,
   "metadata": {},
   "outputs": [],
   "source": [
    "# every month \n",
    "od_month_migtimes = clade21.groupby(['od','month'])['Unnamed: 0'].count().reset_index()\n",
    "od_month_migtimes['month'] = pd.Categorical(od_month_migtimes['month'],months)\n",
    "od_month_migtimes = od_month_migtimes.sort_values(\"month\").sort_values(['od','month']).reset_index()\n",
    "\n",
    "clade21_bf3_dup3 = clade21_bf3\n",
    "clade21_bf3_dup3.loc[:,'year']=3\n",
    "clade21_bf3.loc[:,'year']=1\n",
    "clade21_bf3_dup2 = clade21_bf3.copy()\n",
    "clade21_bf3_dup2['year']=2\n",
    "clade21_bf3_dup3 = clade21_bf3.copy()\n",
    "clade21_bf3_dup3['year']=3\n",
    "clade21_bf3_dups = pd.concat([clade21_bf3,clade21_bf3_dup2,clade21_bf3_dup3])\n",
    "clade21_bf3 = clade21_bf3_dups.copy()\n",
    "\n",
    "od_month_migtimes_bf3 = clade21_bf3.groupby(['od','month'])['Unnamed: 0'].count().reset_index()\n",
    "od_month_migtimes_bf3['month'] = pd.Categorical(od_month_migtimes_bf3['month'],months)\n",
    "od_month_migtimes_bf3 = od_month_migtimes_bf3.sort_values(\"month\").sort_values(['od','month']).reset_index()\n",
    "od_month_migtimes_bf3 = od_month_migtimes_bf3.rename(columns={'Unnamed: 0': 'counts'})\n",
    "od_month_migtimes_bf3.to_csv('virus_od_month_migtimes_bf3_2.3.2.1.csv')"
   ]
  },
  {
   "cell_type": "code",
   "execution_count": 8,
   "metadata": {},
   "outputs": [],
   "source": [
    "clade21_bf3.loc[:,'days']=clade21_bf3.loc[:,'dateinyear']*365 + (clade21_bf3.loc[:,'year']-1)*365\n",
    "clade21_bf3 = clade21_bf3.sort_values(\"od\")"
   ]
  },
  {
   "cell_type": "code",
   "execution_count": 9,
   "metadata": {},
   "outputs": [],
   "source": [
    "## violin plot 2 \n",
    "#fig = plt.figure(figsize=(20,20))\n",
    "g = sns.catplot(\n",
    "    y=\"od\", \n",
    "    x=\"days\", kind=\"violin\", split=True,\n",
    "    data=clade21_bf3,width=1,color= 'grey')\n",
    "g.fig.set_figwidth(10)\n",
    "g.fig.set_figheight(20)\n",
    "\n",
    "plt.yticks(fontsize=16)\n",
    "plt.xticks(ticks=[0,32,60,91,121,152,182,213,244,274,305,335,\n",
    "                  365,397,425,456,486,517,547,578,609,639,670,700,\n",
    "                  730,762,790,821,851,882,912,943,974,1004,1035,1065],\n",
    "           labels=['Jan 1','','Mar','','May','','Jul','','Sep','','Nov','',\n",
    "                  'Jan 1','','Mar','','May','','Jul','','Sep','','Nov','',\n",
    "                  'Dec 30','','Mar','','May','','Jul','','Sep','','Nov',''],fontsize=16)\n",
    "plt.ylabel('Origin - Destination of virus lineage migration event',fontsize=18)\n",
    "plt.xlabel('Virus lineage migration\\n dates in a year',fontsize=18)\n",
    "plt.xlim([365,730])\n",
    "#plt.show()\n",
    "g.savefig('clade2.3.2.1_jumps_bf3_violinpl.pdf')"
   ]
  },
  {
   "cell_type": "code",
   "execution_count": 40,
   "metadata": {},
   "outputs": [],
   "source": [
    "clade = pd.read_csv('/Users/qiqiy/Documents/P2_WAI/Dataset/Virus lineage movements/2.3.4.4New_RandSub_MJs_bi.txt')\n",
    "clade['year'] = np.floor(clade['date'])\n",
    "clade['dateinyear'] = clade['date'] - clade['year']\n",
    "clade['od'] = clade['origin'] + '-' + clade['destination']\n",
    "clade['days'] = clade['dateinyear']*365\n",
    "\n",
    "conditions = [\n",
    "    (clade['days'] < 32),\n",
    "    (clade['days'] >= 32) & (clade['days'] < 60),\n",
    "    (clade['days'] >= 60) & (clade['days'] < 91),\n",
    "    (clade['days'] >= 91) & (clade['days'] < 121),\n",
    "    (clade['days'] >= 121) & (clade['days'] < 152),\n",
    "    (clade['days'] >= 152) & (clade['days'] < 182),\n",
    "    (clade['days'] >= 182) & (clade['days'] < 213),\n",
    "    (clade['days'] >= 213) & (clade['days'] < 244),\n",
    "    (clade['days'] >= 244) & (clade['days'] < 274),\n",
    "    (clade['days'] >= 274) & (clade['days'] < 305),\n",
    "    (clade['days'] >= 305) & (clade['days'] < 335),\n",
    "    (clade['days'] >= 335) & (clade['days'] < 366),\n",
    "]\n",
    "\n",
    "months = ['Jan','Feb','Mar','Apr','May','Jun','Jul','Aug','Sep','Oct','Nov','Dec']\n",
    "clade['month'] = np.select(conditions, months)\n",
    "od_month_migtimes = clade.groupby(['od','month'])['Unnamed: 0'].count().reset_index()\n",
    "od_month_migtimes['month'] = pd.Categorical(od_month_migtimes['month'],months)\n",
    "od_month_migtimes = od_month_migtimes.sort_values(\"month\").sort_values(['od','month']).reset_index()\n",
    "clade_bf3 = clade.loc[clade['od'].isin(['SChina-JapanKorea','Russia-Africa','Russia-CA','SEA-SChina','Europe-USAandCanada','USAandCanada-Europe','Africa-Europe','SEA-Russia','CA-JapanKorea','USAandCanada-JapanKorea','WA-Africa','Russia-SChina','JapanKorea-SChina','Europe-JapanKorea','SEA-JapanKorea','JapanKorea-NChina','Europe-WA','NChina-JapanKorea','Africa-Russia','Europe-Africa','NChina-CA','CA-Mongolia','JapanKorea-Russia','JapanKorea-USAandCanada','NChina-SChina','Russia-WA','SChina-SEA','Russia-Europe','USAandCanada-LA','Russia-NChina','SChina-NChina'])] # UPDATE ROUTES WITH BF>3 "
   ]
  },
  {
   "cell_type": "code",
   "execution_count": 41,
   "metadata": {},
   "outputs": [],
   "source": [
    "fall34 = clade_bf3[(clade_bf3['month']=='Sep') | (clade_bf3['month']=='Oct') | (clade_bf3['month']=='Nov')]\n",
    "fall34_NS = fall34[fall34['od'].isin(['USAandCanada-JapanKorea','WA-Africa','Russia-SChina','JapanKorea-SChina','Europe-JapanKorea','SEA-JapanKorea','JapanKorea-NChina','Europe-WA','NChina-JapanKorea','Africa-Russia','Europe-Africa','NChina-CA','CA-Mongolia','JapanKorea-Russia','JapanKorea-USAandCanada','NChina-SChina','Russia-WA','SChina-SEA','Russia-Europe','USAandCanada-LA','Russia-NChina','SChina-NChina'])]\n",
    "fall34_NS['Unnamed: 0'].count()\n",
    "fall34_NS_sum = fall34_NS.groupby(['treeNumber'])['Unnamed: 0'].count().reset_index()\n",
    "fall34_NS_sum.to_csv('fall34New_NS.csv')\n",
    "\n",
    "spring34 = clade_bf3[(clade_bf3['month']=='Mar') | (clade_bf3['month']=='Apr') | (clade_bf3['month']=='May')]\n",
    "spring34_SN = spring34[spring34['od'].isin(['SChina-JapanKorea','Russia-Africa','Russia-CA','SEA-SChina','Europe-USAandCanada','USAandCanada-Europe','Africa-Europe','SEA-Russia','CA-JapanKorea'])]\n",
    "spring34_SN['Unnamed: 0'].count()\n",
    "spring34_SN_sum = spring34_SN.groupby(['treeNumber'])['Unnamed: 0'].count().reset_index()\n",
    "spring34_SN_sum.to_csv('spring34New_SN.csv')"
   ]
  },
  {
   "cell_type": "code",
   "execution_count": 20,
   "metadata": {},
   "outputs": [],
   "source": [
    "# every year-month\n",
    "od_migtimes_bf3 = clade_bf3.groupby(['od','year','month'])['Unnamed: 0'].count().reset_index()\n",
    "od_migtimes_bf3['month'] = pd.Categorical(od_migtimes_bf3['month'],months)\n",
    "od_migtimes_bf3 = od_migtimes_bf3.sort_values(\"year\").sort_values(['od','year','month']).reset_index()\n",
    "od_migtimes_bf3 = od_migtimes_bf3.rename(columns={'Unnamed: 0': 'counts'})\n",
    "od_migtimes_bf3.to_csv('virus_od_migtimes_bf3_2.3.4.4New.csv')"
   ]
  },
  {
   "cell_type": "code",
   "execution_count": null,
   "metadata": {},
   "outputs": [],
   "source": [
    "# every month\n",
    "clade_bf3_dup3 = clade_bf3\n",
    "clade_bf3_dup3.loc[:,'year']=3\n",
    "clade_bf3.loc[:,'year']=1\n",
    "clade_bf3_dup2 = clade_bf3.copy()\n",
    "clade_bf3_dup2['year']=2\n",
    "clade_bf3_dup3 = clade_bf3.copy()\n",
    "clade_bf3_dup3['year']=3\n",
    "clade_bf3_dups = pd.concat([clade_bf3,clade_bf3_dup2,clade_bf3_dup3])\n",
    "clade_bf3 = clade_bf3_dups.copy()\n",
    "od_month_migtimes_bf3 = clade_bf3.groupby(['od','month'])['Unnamed: 0'].count().reset_index()\n",
    "od_month_migtimes_bf3['month'] = pd.Categorical(od_month_migtimes_bf3['month'],months)\n",
    "od_month_migtimes_bf3 = od_month_migtimes_bf3.sort_values(\"month\").sort_values(['od','month']).reset_index()\n",
    "od_month_migtimes_bf3 = od_month_migtimes_bf3.rename(columns={'Unnamed: 0': 'counts'})\n",
    "od_month_migtimes_bf3.to_csv('virus_od_month_migtimes_bf3_2.3.4.4New.csv')"
   ]
  },
  {
   "cell_type": "code",
   "execution_count": 3,
   "metadata": {},
   "outputs": [],
   "source": [
    "clade_bf3.loc[:,'year']=1\n",
    "clade_bf3_dup2 = clade_bf3.copy()\n",
    "clade_bf3_dup2['year']=2\n",
    "clade_bf3_dup3 = clade_bf3.copy()\n",
    "clade_bf3_dup3['year']=3\n",
    "clade_bf3_dups = pd.concat([clade_bf3,clade_bf3_dup2,clade_bf3_dup3])\n",
    "clade_bf3 = clade_bf3_dups.copy()"
   ]
  },
  {
   "cell_type": "code",
   "execution_count": 4,
   "metadata": {},
   "outputs": [],
   "source": [
    "NS_order = ['Africa-Russia','SEA-Russia','Africa-Europe','SEA-JapanKorea','CA-Mongolia','JapanKorea-Russia','SChina-JapanKorea','SChina-NChina','CA-JapanKorea','SEA-SChina','USAandCanada-Europe','JapanKorea-USAandCanada','NChina-JapanKorea','JapanKorea-NChina','USAandCanada-JapanKorea','Russia-Europe','Europe-USAandCanada','SChina-SEA','Europe-JapanKorea','NChina-CA','NChina-SChina','JapanKorea-SChina','Europe-WA','Russia-NChina','Russia-WA','WA-Africa','Russia-CA','Russia-SChina','Europe-Africa','Russia-Africa','USAandCanada-LA']\n",
    "clade_bf3.loc[:,'days']=clade_bf3.loc[:,'dateinyear']*365 + (clade_bf3.loc[:,'year']-1)*365\n",
    "clade_bf3['od'] = pd.Categorical(clade_bf3['od'], NS_order)\n",
    "clade_bf3 = clade_bf3.sort_values(\"od\")"
   ]
  },
  {
   "cell_type": "code",
   "execution_count": null,
   "metadata": {},
   "outputs": [],
   "source": [
    "## violin plot 2 \n",
    "#fig = plt.figure(figsize=(20,20))\n",
    "g = sns.catplot(\n",
    "    y=\"od\", \n",
    "    x=\"days\", kind=\"violin\", split=True,\n",
    "    data=clade_bf3,width=1,color= 'grey')\n",
    "g.fig.set_figwidth(10)\n",
    "g.fig.set_figheight(20)\n",
    "\n",
    "plt.yticks(fontsize=16)\n",
    "plt.xticks(ticks=[0,32,60,91,121,152,182,213,244,274,305,335,\n",
    "                  365,397,425,456,486,517,547,578,609,639,670,700,\n",
    "                  730,762,790,821,851,882,912,943,974,1004,1035,1065],\n",
    "           labels=['Jan 1','','Mar','','May','','Jul','','Sep','','Nov','',\n",
    "                  'Jan 1','','Mar','','May','','Jul','','Sep','','Nov','',\n",
    "                  'Dec 30','','Mar','','May','','Jul','','Sep','','Nov',''],fontsize=16)\n",
    "plt.ylabel('Origin - Destination of virus lineage migration event',fontsize=18)\n",
    "plt.xlabel('Virus lineage migration\\n dates in a year',fontsize=18)\n",
    "plt.xlim([365,730])\n",
    "#plt.show()\n",
    "g.savefig('clade2.3.4.4New_jumps_bf3_violinpl.pdf')"
   ]
  },
  {
   "cell_type": "code",
   "execution_count": 5,
   "metadata": {},
   "outputs": [],
   "source": [
    "clade34 = pd.read_csv('/Users/qiqiy/Documents/P2_WAI/Dataset/Virus lineage movements/2.3.4.4fAreaDTA_MJs_bi.txt')\n",
    "clade34['year'] = np.floor(clade34['date'])\n",
    "clade34['dateinyear'] = clade34['date'] - clade34['year']\n",
    "clade34['od'] = clade34['origin'] + '-' + clade34['destination']\n",
    "clade34['days'] = clade34['dateinyear']*365\n",
    "\n",
    "conditions = [\n",
    "    (clade34['days'] < 32),\n",
    "    (clade34['days'] >= 32) & (clade34['days'] < 60),\n",
    "    (clade34['days'] >= 60) & (clade34['days'] < 91),\n",
    "    (clade34['days'] >= 91) & (clade34['days'] < 121),\n",
    "    (clade34['days'] >= 121) & (clade34['days'] < 152),\n",
    "    (clade34['days'] >= 152) & (clade34['days'] < 182),\n",
    "    (clade34['days'] >= 182) & (clade34['days'] < 213),\n",
    "    (clade34['days'] >= 213) & (clade34['days'] < 244),\n",
    "    (clade34['days'] >= 244) & (clade34['days'] < 274),\n",
    "    (clade34['days'] >= 274) & (clade34['days'] < 305),\n",
    "    (clade34['days'] >= 305) & (clade34['days'] < 335),\n",
    "    (clade34['days'] >= 335) & (clade34['days'] < 366),\n",
    "]\n",
    "\n",
    "months = ['Jan','Feb','Mar','Apr','May','Jun','Jul','Aug','Sep','Oct','Nov','Dec']\n",
    "clade34['month'] = np.select(conditions, months)\n",
    "clade34_bf3 = clade34.loc[clade34['od'].isin(['Europe-Africa','Europe-CA','Europe-JapanKorea','Europe-Qinghai','Europe-Russia','JapanKorea-Europe','JapanKorea-SChina','JapanKorea-USAandCanada','NChina-Europe','NChina-JapanKorea','NChina-Qinghai','NChina-SChina','Qinghai-Europe','Russia-Africa','Russia-Europe','SChina-JapanKorea','SChina-NChina','SChina-SEA','SEA-SChina','USAandCanada-JapanKorea'])]"
   ]
  },
  {
   "cell_type": "code",
   "execution_count": 23,
   "metadata": {},
   "outputs": [],
   "source": [
    "# every year-month\n",
    "od_migtimes_bf3 = clade34_bf3.groupby(['od','year','month'])['Unnamed: 0'].count().reset_index()\n",
    "od_migtimes_bf3['month'] = pd.Categorical(od_migtimes_bf3['month'],months)\n",
    "od_migtimes_bf3 = od_migtimes_bf3.sort_values(\"year\").sort_values(['od','year','month']).reset_index()\n",
    "od_migtimes_bf3 = od_migtimes_bf3.rename(columns={'Unnamed: 0': 'counts'})\n",
    "od_migtimes_bf3.to_csv('virus_od_migtimes_bf3.csv')"
   ]
  },
  {
   "cell_type": "code",
   "execution_count": null,
   "metadata": {},
   "outputs": [],
   "source": [
    "# every month\n",
    "od_month_migtimes = clade34.groupby(['od','month'])['Unnamed: 0'].count().reset_index()\n",
    "od_month_migtimes['month'] = pd.Categorical(od_month_migtimes['month'],months)\n",
    "od_month_migtimes = od_month_migtimes.sort_values(\"month\").sort_values(['od','month']).reset_index()\n",
    "\n",
    "clade34_bf3.loc[:,'year']=1\n",
    "clade34_bf3_dup2 = clade34_bf3.copy()\n",
    "clade34_bf3_dup2['year']=2\n",
    "clade34_bf3_dup3 = clade34_bf3.copy()\n",
    "clade34_bf3_dup3['year']=3\n",
    "clade34_bf3_dups = pd.concat([clade34_bf3,clade34_bf3_dup2,clade34_bf3_dup3])\n",
    "clade34_bf3 = clade34_bf3_dups.copy()\n",
    "\n",
    "od_month_migtimes_bf3 = clade34_bf3.groupby(['od','month'])['Unnamed: 0'].count().reset_index()\n",
    "od_month_migtimes_bf3['month'] = pd.Categorical(od_month_migtimes_bf3['month'],months)\n",
    "od_month_migtimes_bf3 = od_month_migtimes_bf3.sort_values(\"month\").sort_values(['od','month']).reset_index()\n",
    "od_month_migtimes_bf3 = od_month_migtimes_bf3.rename(columns={'Unnamed: 0': 'counts'})\n",
    "od_month_migtimes_bf3.to_csv('../data/virus_od_month_migtimes_bf3.csv')"
   ]
  },
  {
   "cell_type": "code",
   "execution_count": null,
   "metadata": {},
   "outputs": [],
   "source": [
    "NS_order34 = ['SChina-JapanKorea','SChina-NChina','Qinghai-Europe','NChina-Europe','JapanKorea-Europe','SEA-SChina','Europe-Russia','JapanKorea-USAandCanada','NChina-JapanKorea','NChina-Qinghai','USAandCanada-JapanKorea','Russia-Europe','SChina-SEA','Europe-JapanKorea','Europe-Qinghai','NChina-SChina','JapanKorea-SChina','Europe-CA','Europe-Africa','Russia-Africa']\n",
    "clade34_bf3.loc[:,'days']=clade34_bf3.loc[:,'dateinyear']*365 + (clade34_bf3.loc[:,'year']-1)*365\n",
    "clade34_bf3['od'] = pd.Categorical(clade34_bf3['od'], NS_order34)\n",
    "clade34_bf3 = clade34_bf3.sort_values(\"od\")"
   ]
  },
  {
   "cell_type": "code",
   "execution_count": null,
   "metadata": {},
   "outputs": [],
   "source": [
    "fig = plt.figure(figsize=(20, 7))\n",
    "plt.xticks(rotation=90,fontsize=16)\n",
    "\n",
    "plt.yticks(ticks=[0,30,60,90,120,150,180,210,240,270,300,330,365,],labels=['Jan 1','','Mar','','May','','Jul','','Sep','','Nov','','Dec 31'],fontsize=16)\n",
    "bwp_34 = sns.boxplot(\n",
    "    x=\"od\", \n",
    "    y=\"days\", \n",
    "    data=clade34_bf3, whis=())\n",
    "plt.xlabel('Origin - Destination of virus lineage migration event',fontsize=18)\n",
    "plt.ylabel('Virus lineage migration\\n dates in a year',fontsize=18)\n",
    "plt.tight_layout()\n",
    "fig.savefig('../output/clade2.3.4.4_jumps_bf3.svg')"
   ]
  },
  {
   "cell_type": "code",
   "execution_count": null,
   "metadata": {},
   "outputs": [],
   "source": [
    "c34_dis = clade34_bf3.groupby(['od'])['days'].describe(percentiles=[.025, .25, .5, .75, .975])\n",
    "c34_dis.to_csv('../data/2.3.4.4_mj_dis.csv')\n",
    "c34_dis"
   ]
  },
  {
   "cell_type": "code",
   "execution_count": null,
   "metadata": {},
   "outputs": [],
   "source": [
    "## violin plot\n",
    "#fig = plt.figure(figsize=(20,20))\n",
    "g = sns.catplot(\n",
    "    x=\"od\", \n",
    "    y=\"days\", kind=\"violin\", split=True,\n",
    "    data=clade34_bf3,width=1,color= 'grey')\n",
    "g.fig.set_figwidth(20)\n",
    "g.fig.set_figheight(5)\n",
    "\n",
    "plt.xticks(rotation=90,fontsize=16)\n",
    "plt.yticks(ticks=[0,32,60,91,121,152,182,213,244,274,305,335,\n",
    "                  365,397,425,456,486,517,547,578,609,639,670,700,\n",
    "                  730,762,790,821,851,882,912,943,974,1004,1035,1065],\n",
    "           labels=['Jan 1','','Mar','','May','','Jul','','Sep','','Nov','',\n",
    "                  'Jan 1','','Mar','','May','','Jul','','Sep','','Nov','',\n",
    "                  'Dec 30','','Mar','','May','','Jul','','Sep','','Nov',''],fontsize=16)\n",
    "plt.xlabel('Origin - Destination of virus lineage migration event',fontsize=18)\n",
    "plt.ylabel('Virus lineage migration\\n dates in a year',fontsize=18)\n",
    "plt.ylim([365,730])\n",
    "plt.show()\n",
    "#g.savefig('../output/clade2.3.4.4_jumps_bf3_violinpl_short.pdf')"
   ]
  },
  {
   "cell_type": "code",
   "execution_count": null,
   "metadata": {},
   "outputs": [],
   "source": [
    "## violin plot 2 \n",
    "#fig = plt.figure(figsize=(20,20))\n",
    "g = sns.catplot(\n",
    "    y=\"od\", \n",
    "    x=\"days\", kind=\"violin\", split=True,\n",
    "    data=clade34_bf3,width=1,color= 'grey')\n",
    "g.fig.set_figwidth(10)\n",
    "g.fig.set_figheight(20)\n",
    "\n",
    "plt.yticks(fontsize=16)\n",
    "plt.xticks(ticks=[0,32,60,91,121,152,182,213,244,274,305,335,\n",
    "                  365,397,425,456,486,517,547,578,609,639,670,700,\n",
    "                  730,762,790,821,851,882,912,943,974,1004,1035,1065],\n",
    "           labels=['Jan 1','','Mar','','May','','Jul','','Sep','','Nov','',\n",
    "                  'Jan 1','','Mar','','May','','Jul','','Sep','','Nov','',\n",
    "                  'Dec 30','','Mar','','May','','Jul','','Sep','','Nov',''],fontsize=16)\n",
    "plt.ylabel('Origin - Destination of virus lineage migration event',fontsize=18)\n",
    "plt.xlabel('Virus lineage migration\\n dates in a year',fontsize=18)\n",
    "plt.xlim([365,730])\n",
    "plt.show()\n",
    "#g.savefig('../output/clade2.3.4.4_jumps_bf3_violinpl2.pdf')"
   ]
  },
  {
   "cell_type": "code",
   "execution_count": 16,
   "metadata": {},
   "outputs": [],
   "source": [
    "fall34 = clade34_bf3[(clade34_bf3['month']=='Sep') | (clade34_bf3['month']=='Oct') | (clade34_bf3['month']=='Nov')]\n",
    "fall34_NS = fall34[fall34['od'].isin(['NChina-Qinghai','USAandCanada-JapanKorea','Russia-Europe','SChina-SEA','Europe-JapanKorea','Europe-Qinghai','NChina-SChina','JapanKorea-SChina','Europe-CA','Europe-Africa','Russia-Africa'])]\n",
    "fall34_NS['Unnamed: 0'].count()\n",
    "fall34_NS_sum = fall34_NS.groupby(['treeNumber'])['Unnamed: 0'].count().reset_index()\n",
    "fall34_NS_sum.to_csv('fall34_NS.csv')\n",
    "\n",
    "spring34 = clade34_bf3[(clade34_bf3['month']=='Mar') | (clade34_bf3['month']=='Apr') | (clade34_bf3['month']=='May')]\n",
    "spring34_SN = spring34[spring34['od'].isin(['SChina-JapanKorea','SChina-NChina','Qinghai-Europe','NChina-Europe','JapanKorea-Europe','SEA-SChina','Europe-Russia','JapanKorea-USAandCanada','NChina-JapanKorea'])]\n",
    "spring34_SN['Unnamed: 0'].count()\n",
    "spring34_SN_sum = spring34_SN.groupby(['treeNumber'])['Unnamed: 0'].count().reset_index()\n",
    "spring34_SN_sum.to_csv('spring34_SN.csv')\n",
    "\n",
    "eqmig = clade34_bf3[(clade34_bf3['origin']=='Europe') & (clade34_bf3['destination']=='Qinghai')]\n",
    "mig_pertree = eqmig.groupby(['treeNumber'])['Unnamed: 0'].count().reset_index()"
   ]
  }
 ],
 "metadata": {
  "kernelspec": {
   "display_name": "Python 3 (ipykernel)",
   "language": "python",
   "name": "python3"
  },
  "language_info": {
   "codemirror_mode": {
    "name": "ipython",
    "version": 3
   },
   "file_extension": ".py",
   "mimetype": "text/x-python",
   "name": "python",
   "nbconvert_exporter": "python",
   "pygments_lexer": "ipython3",
   "version": "3.9.0"
  }
 },
 "nbformat": 4,
 "nbformat_minor": 4
}
