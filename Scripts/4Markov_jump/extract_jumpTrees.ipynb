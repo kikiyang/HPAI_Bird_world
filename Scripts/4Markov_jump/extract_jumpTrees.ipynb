{
 "cells": [
  {
   "cell_type": "code",
   "execution_count": 1,
   "metadata": {},
   "outputs": [],
   "source": [
    "import re\n",
    "import pandas as pd\n",
    "import os, sys\n",
    "from IPython.core.debugger import set_trace"
   ]
  },
  {
   "cell_type": "code",
   "execution_count": 2,
   "metadata": {},
   "outputs": [],
   "source": [
    "def extractJumpTrees(filedir, mrsd, burnin,outputFiledir):\n",
    "    k=0\n",
    "    jumplist=[]\n",
    "\n",
    "    with open(filedir) as jumpTrees:\n",
    "        # if the input file has the whole information from BEAST, i.e. other tree information at the start, then \n",
    "        # the following codes are activated:\n",
    "        for line in jumpTrees:\n",
    "            if line.startswith('tree STATE_'):\n",
    "                break\n",
    "                \n",
    "        for line in jumpTrees:\n",
    "            if line.startswith('End'):\n",
    "                break\n",
    "                set_trace()\n",
    "                \n",
    "            k+=1\n",
    "            state = re.search(r\"\\d+(?=\\s)\",line).group(0)\n",
    "            jumps = re.findall(r\"\\{(\\d+\\.\\d+\\,\\w+\\,\\w+)\\}\",line)\n",
    "            jumphistory = [re.split(\",\",jump,3) for jump in jumps]\n",
    "            df = pd.DataFrame(jumphistory,columns=['height','origin','destination'])\n",
    "            df['treeNumber'] = k\n",
    "            df['date'] = mrsd\n",
    "            df['date'] = df['date']- [float(x) for x in df['height']]\n",
    "            jumplist.extend([df])\n",
    "            \n",
    "            if line.endswith(';'):\n",
    "                continue\n",
    "            \n",
    "    allTreesJumps = pd.concat(jumplist,axis=0)\n",
    "    maxTreeNum = allTreesJumps.max()['treeNumber']\n",
    "    allTreesJumps_bi = allTreesJumps[allTreesJumps['treeNumber'] > int(burnin*maxTreeNum)]\n",
    "    allTreesJumps_bi.to_csv(outputFiledir)"
   ]
  },
  {
   "cell_type": "code",
   "execution_count": null,
   "metadata": {},
   "outputs": [],
   "source": [
    "filedir = 'D:\\\\P2_WAI\\\\DTA\\\\location\\\\2.3.4.4fAreaDTA+MJ_empT\\\\2.3.4.4fAreaDTA+MJ.location.history.trees.txt'\n",
    "filedir2 = 'D:\\\\P2_WAI\\\\DTA\\\\location\\\\2.3.2.1fAreaDTA+MJ_empT\\\\2.3.2.1fAreaDTA+MJ.location.history.trees.txt'"
   ]
  },
  {
   "cell_type": "code",
   "execution_count": 26,
   "metadata": {},
   "outputs": [],
   "source": [
    "extractJumpTrees(filedir2,2018.0,'D:\\\\P2_WAI\\\\DTA\\\\location\\\\2.3.2.1fAreaDTA+MJ_empT\\\\2.3.2.1fAreaDTA_MJs_bi.txt')"
   ]
  },
  {
   "cell_type": "code",
   "execution_count": null,
   "metadata": {},
   "outputs": [],
   "source": [
    "extractJumpTrees(filedir,2018.0246575342467,'D:\\\\P2_WAI\\\\DTA\\\\location\\\\2.3.4.4fAreaDTA+MJ_empT\\\\2.3.4.4fAreaDTA_MJs_bi.txt')"
   ]
  },
  {
   "cell_type": "code",
   "execution_count": 4,
   "metadata": {},
   "outputs": [],
   "source": [
    "extractJumpTrees('geo1_rand_subsampled_Phy.location.history.trees',2023.5232876712328,0.15,'2.3.4.4New_RandSub_MJs_bi.txt')"
   ]
  }
 ],
 "metadata": {
  "kernelspec": {
   "display_name": "Python 3",
   "language": "python",
   "name": "python3"
  },
  "language_info": {
   "codemirror_mode": {
    "name": "ipython",
    "version": 3
   },
   "file_extension": ".py",
   "mimetype": "text/x-python",
   "name": "python",
   "nbconvert_exporter": "python",
   "pygments_lexer": "ipython3",
   "version": "3.10.4"
  }
 },
 "nbformat": 4,
 "nbformat_minor": 4
}
